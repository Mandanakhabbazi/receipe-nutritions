{
 "cells": [
  {
   "cell_type": "markdown",
   "id": "b0e13058",
   "metadata": {},
   "source": [
    "import packages"
   ]
  },
  {
   "cell_type": "code",
   "execution_count": 16,
   "id": "ecf35a7e",
   "metadata": {},
   "outputs": [],
   "source": [
    "import requests\n",
    "import json\n",
    "import selenium\n",
    "from selenium import webdriver\n",
    "import pandas as pd"
   ]
  },
  {
   "cell_type": "markdown",
   "id": "774eb7b7",
   "metadata": {},
   "source": [
    "Get acces API"
   ]
  },
  {
   "cell_type": "code",
   "execution_count": 17,
   "id": "27b12446",
   "metadata": {},
   "outputs": [],
   "source": [
    "url = \"https://api.edamam.com/api/recipes/v2\"\n",
    "\n",
    "headers = {\"app_id\": \"b741d1eb\", \"app_key\": \"ba71133c01e0c6f8f1f1ea2164505950\"}\n",
    "\n",
    "querystring = {\"type\": \"public\", \"q\":\"keto\", \"app_id\": \"b741d1eb\", \"app_key\": \"ba71133c01e0c6f8f1f1ea2164505950\", \"from\": \"1\", \"to\": \"2323\"}\n",
    "\n",
    "response = requests.get(url, headers={\"Authorization\": \"ba71133c01e0c6f8f1f1ea2164505950\"}, params=querystring)"
   ]
  },
  {
   "cell_type": "code",
   "execution_count": 18,
   "id": "4c4d4f8f",
   "metadata": {},
   "outputs": [],
   "source": [
    "recipe_request = response.json()"
   ]
  },
  {
   "cell_type": "markdown",
   "id": "a3bacc35",
   "metadata": {},
   "source": [
    "Print dinner recipes first page"
   ]
  },
  {
   "cell_type": "code",
   "execution_count": 19,
   "id": "c0089a9a",
   "metadata": {},
   "outputs": [
    {
     "name": "stdout",
     "output_type": "stream",
     "text": [
      "Keto Fat Bombs Protein = 49.188813770500005 g Carbs = 79.77950472949999 g Fats = 264.402713744 g\n",
      "Keto Egg Bites Recipe Protein = 92.86166374999999 g Carbs = 16.18961875 g Fats = 86.5060175 g\n",
      "Keto Key Lime Mousse Protein = 27.492599999999996 g Carbs = 23.581853333439 g Fats = 177.43161333448512 g\n",
      "Keto Peanut Butter Squares Protein = 130.00279276170835 g Carbs = 507.47609399902126 g Fats = 362.364999303189 g\n",
      "YOGURT RICE, REINVENTED THE KETO WAY! Protein = 21.227559999999997 g Carbs = 34.77966 g Fats = 27.736790000000003 g\n",
      "Keto Chicken Pot Pie Casserole Recipe Protein = 183.06637213462503 g Carbs = 66.94974243241005 g Fats = 330.42507908 g\n",
      "Chocolate Mousse (Paleo! Keto!) Protein = 20.232920000000004 g Carbs = 126.01262500000003 g Fats = 153.36332000000004 g\n",
      "Low-Carb Cloud Bread Protein = 21.41955 g Carbs = 4.95003 g Fats = 29.1594 g\n",
      "Cheesy Chaffle Sandwiches with Avocado & Bacon Protein = 118.399855 g Carbs = 41.697175 g Fats = 171.12136999999998 g\n",
      "SF/GF Orange & Clove Olive Oil Cake (Low-Carb/Keto Friendly) Protein = 74.1042774999809 g Carbs = 68.94642249993129 g Fats = 411.4706499999827 g\n",
      "Zucchini Noodles with Spicy Meatballs Recipe Protein = 57.79111424624999 g Carbs = 39.10083875 g Fats = 86.52511180075001 g\n",
      "Cauliflower Rice Recipe Protein = 21.067874999999642 g Carbs = 60.61287499999938 g Fats = 42.283689999999915 g\n",
      "Pesto Shrimp Skewers Protein = 17.977390273381324 g Carbs = 12.655856328119942 g Fats = 19.424986835894774 g\n"
     ]
    }
   ],
   "source": [
    "for recipe in recipe_request['hits']:\n",
    "    if (recipe[\"recipe\"][\"mealType\"][0]== 'lunch/dinner'):\n",
    "      print(recipe[\"recipe\"][\"label\"], \n",
    "            \"Protein =\", recipe['recipe'][\"totalNutrients\"]['PROCNT']['quantity'], \"g\",\n",
    "            \"Carbs =\", recipe['recipe'][\"totalNutrients\"]['CHOCDF']['quantity'], \"g\",\n",
    "            \"Fats =\", recipe['recipe'][\"totalNutrients\"]['FAT']['quantity'], \"g\")"
   ]
  },
  {
   "cell_type": "markdown",
   "id": "43b630f7",
   "metadata": {},
   "source": [
    "Create while loop"
   ]
  },
  {
   "cell_type": "code",
   "execution_count": 20,
   "id": "d42c0f0b",
   "metadata": {},
   "outputs": [],
   "source": [
    "next_page = recipe_request"
   ]
  },
  {
   "cell_type": "code",
   "execution_count": null,
   "id": "19f11232",
   "metadata": {},
   "outputs": [],
   "source": [
    "while ['next_page'] is not None:\n",
    "    for recipe in recipe_request['hits']:\n",
    "        if (recipe[\"recipe\"][\"mealType\"][0]== 'lunch/dinner') and (recipe[\"recipe\"][\"dietLabels\"]== 'High-Fiber')):\n",
    "          print(recipe[\"recipe\"][\"label\"], \n",
    "                \"Protein =\", recipe['recipe'][\"totalNutrients\"]['PROCNT']['quantity'], \"g\",\n",
    "                \"Carbs =\", recipe['recipe'][\"totalNutrients\"]['CHOCDF']['quantity'], \"g\",\n",
    "                \"Fats =\", recipe['recipe'][\"totalNutrients\"]['FAT']['quantity'], \"g\")"
   ]
  },
  {
   "cell_type": "markdown",
   "id": "65222905",
   "metadata": {},
   "source": [
    "Create dictionary"
   ]
  },
  {
   "cell_type": "code",
   "execution_count": null,
   "id": "41ef9df0",
   "metadata": {},
   "outputs": [],
   "source": [
    "rec_dic {}\n",
    "for recipe in recipe_request['hits']:\n",
    "    if (recipe[\"recipe\"][\"mealType\"][0]== 'lunch/dinner'):\n",
    "      print(recipe[\"recipe\"][\"label\"], \n",
    "            \"Protein =\", recipe['recipe'][\"totalNutrients\"]['PROCNT']['quantity'], \"g\",\n",
    "            \"Carbs =\", recipe['recipe'][\"totalNutrients\"]['CHOCDF']['quantity'], \"g\",\n",
    "            \"Fats =\", recipe['recipe'][\"totalNutrients\"]['FAT']['quantity'], \"g\")"
   ]
  },
  {
   "cell_type": "code",
   "execution_count": 22,
   "id": "bcb0119f",
   "metadata": {},
   "outputs": [
    {
     "ename": "KeyboardInterrupt",
     "evalue": "",
     "output_type": "error",
     "traceback": [
      "\u001b[0;31m---------------------------------------------------------------------------\u001b[0m",
      "\u001b[0;31mKeyboardInterrupt\u001b[0m                         Traceback (most recent call last)",
      "Input \u001b[0;32mIn [22]\u001b[0m, in \u001b[0;36m<cell line: 4>\u001b[0;34m()\u001b[0m\n\u001b[1;32m      7\u001b[0m count\u001b[38;5;241m+\u001b[39m\u001b[38;5;241m=\u001b[39m\u001b[38;5;241m1\u001b[39m\n\u001b[1;32m      8\u001b[0m \u001b[38;5;28;01mif\u001b[39;00m (recipe[\u001b[38;5;124m\"\u001b[39m\u001b[38;5;124mrecipe\u001b[39m\u001b[38;5;124m\"\u001b[39m][\u001b[38;5;124m\"\u001b[39m\u001b[38;5;124mmealType\u001b[39m\u001b[38;5;124m\"\u001b[39m][\u001b[38;5;241m0\u001b[39m]\u001b[38;5;241m==\u001b[39m \u001b[38;5;124m'\u001b[39m\u001b[38;5;124mlunch/dinner\u001b[39m\u001b[38;5;124m'\u001b[39m):\n\u001b[0;32m----> 9\u001b[0m   df_list\u001b[38;5;241m.\u001b[39mappend([recipe[\u001b[38;5;124m\"\u001b[39m\u001b[38;5;124mrecipe\u001b[39m\u001b[38;5;124m\"\u001b[39m][\u001b[38;5;124m\"\u001b[39m\u001b[38;5;124mlabel\u001b[39m\u001b[38;5;124m\"\u001b[39m], \\\n\u001b[1;32m     10\u001b[0m         \u001b[38;5;28mstr\u001b[39m(\u001b[38;5;28mround\u001b[39m(recipe[\u001b[38;5;124m'\u001b[39m\u001b[38;5;124mrecipe\u001b[39m\u001b[38;5;124m'\u001b[39m][\u001b[38;5;124m\"\u001b[39m\u001b[38;5;124mtotalNutrients\u001b[39m\u001b[38;5;124m\"\u001b[39m][\u001b[38;5;124m'\u001b[39m\u001b[38;5;124mPROCNT\u001b[39m\u001b[38;5;124m'\u001b[39m][\u001b[38;5;124m'\u001b[39m\u001b[38;5;124mquantity\u001b[39m\u001b[38;5;124m'\u001b[39m], \u001b[38;5;241m2\u001b[39m))\u001b[38;5;241m+\u001b[39m\u001b[38;5;124m\"\u001b[39m\u001b[38;5;124m g\u001b[39m\u001b[38;5;124m\"\u001b[39m, \\\n\u001b[1;32m     11\u001b[0m         \u001b[38;5;28mstr\u001b[39m(\u001b[38;5;28mround\u001b[39m(recipe[\u001b[38;5;124m'\u001b[39m\u001b[38;5;124mrecipe\u001b[39m\u001b[38;5;124m'\u001b[39m][\u001b[38;5;124m\"\u001b[39m\u001b[38;5;124mtotalNutrients\u001b[39m\u001b[38;5;124m\"\u001b[39m][\u001b[38;5;124m'\u001b[39m\u001b[38;5;124mCHOCDF\u001b[39m\u001b[38;5;124m'\u001b[39m][\u001b[38;5;124m'\u001b[39m\u001b[38;5;124mquantity\u001b[39m\u001b[38;5;124m'\u001b[39m], \u001b[38;5;241m2\u001b[39m))\u001b[38;5;241m+\u001b[39m\u001b[38;5;124m\"\u001b[39m\u001b[38;5;124m g\u001b[39m\u001b[38;5;124m\"\u001b[39m,\\\n\u001b[1;32m     12\u001b[0m         \u001b[38;5;28mstr\u001b[39m(\u001b[38;5;28mround\u001b[39m(recipe[\u001b[38;5;124m'\u001b[39m\u001b[38;5;124mrecipe\u001b[39m\u001b[38;5;124m'\u001b[39m][\u001b[38;5;124m\"\u001b[39m\u001b[38;5;124mtotalNutrients\u001b[39m\u001b[38;5;124m\"\u001b[39m][\u001b[38;5;124m'\u001b[39m\u001b[38;5;124mFAT\u001b[39m\u001b[38;5;124m'\u001b[39m][\u001b[38;5;124m'\u001b[39m\u001b[38;5;124mquantity\u001b[39m\u001b[38;5;124m'\u001b[39m], \u001b[38;5;241m2\u001b[39m))\u001b[38;5;241m+\u001b[39m\u001b[38;5;124m\"\u001b[39m\u001b[38;5;124m g\u001b[39m\u001b[38;5;124m\"\u001b[39m])\n",
      "\u001b[0;31mKeyboardInterrupt\u001b[0m: "
     ]
    }
   ],
   "source": [
    "rec_dic = {}\n",
    "count = 0 \n",
    "df_list = []\n",
    "while ['next_page'] is not None:\n",
    "  \n",
    "  for idx, recipe in enumerate(recipe_request['hits']):\n",
    "    count+=1\n",
    "    if (recipe[\"recipe\"][\"mealType\"][0]== 'lunch/dinner'):\n",
    "      df_list.append([recipe[\"recipe\"][\"label\"], \\\n",
    "            str(round(recipe['recipe'][\"totalNutrients\"]['PROCNT']['quantity'], 2))+\" g\", \\\n",
    "            str(round(recipe['recipe'][\"totalNutrients\"]['CHOCDF']['quantity'], 2))+\" g\",\\\n",
    "            str(round(recipe['recipe'][\"totalNutrients\"]['FAT']['quantity'], 2))+\" g\"])"
   ]
  },
  {
   "cell_type": "code",
   "execution_count": null,
   "id": "b74a8155",
   "metadata": {},
   "outputs": [],
   "source": [
    "len(rec_dic)"
   ]
  },
  {
   "cell_type": "markdown",
   "id": "aad9104d",
   "metadata": {},
   "source": [
    "Create dataset table"
   ]
  },
  {
   "cell_type": "code",
   "execution_count": null,
   "id": "42ab2d79",
   "metadata": {},
   "outputs": [],
   "source": [
    "def make_df(rec_dictionary: dict) -> pd.DataFrame:\n",
    "  df_list = []\n",
    "  for v in rec_dictionary.values():\n",
    "    df_list.append(list(v))\n",
    "  \n",
    "  df = pd.DataFrame(df_list, columns = ['Recipe_name', 'Protein', 'Carbs', 'Fat'])\n",
    "  return df\n",
    "\n",
    "df = make_df(rec_dic)\n",
    "print(df)"
   ]
  }
 ],
 "metadata": {
  "kernelspec": {
   "display_name": "Python 3 (ipykernel)",
   "language": "python",
   "name": "python3"
  },
  "language_info": {
   "codemirror_mode": {
    "name": "ipython",
    "version": 3
   },
   "file_extension": ".py",
   "mimetype": "text/x-python",
   "name": "python",
   "nbconvert_exporter": "python",
   "pygments_lexer": "ipython3",
   "version": "3.9.12"
  }
 },
 "nbformat": 4,
 "nbformat_minor": 5
}
