{
 "cells": [
  {
   "cell_type": "markdown",
   "id": "4890eaaa",
   "metadata": {},
   "source": [
    "# Dataset for KETO diets"
   ]
  },
  {
   "cell_type": "code",
   "execution_count": null,
   "id": "ecf35a7e",
   "metadata": {},
   "outputs": [],
   "source": [
    "# import packages\n",
    "import requests\n",
    "import json\n",
    "import selenium\n",
    "import pickle\n",
    "import time\n",
    "import os"
   ]
  },
  {
   "cell_type": "code",
   "execution_count": 2,
   "id": "27b12446",
   "metadata": {},
   "outputs": [],
   "source": [
    "# Get acces API\n",
    "url = \"https://api.edamam.com/api/recipes/v2\"\n",
    "\n",
    "api_id = os.environ['APP_ID']\n",
    "api_key = os.environ['APP_KEY'] \n",
    "\n",
    "headers = {api_id, api_key}\n",
    "\n",
    "querystring = {\"type\": \"public\", \"q\":\"keto\", \"app_id\": api_id, \"app_key\": api_key, \"from\": \"1\", \"to\": \"2323\"}\n",
    "\n",
    "response = requests.get(url, headers={\"Authorization\": api_key}, params=querystring)"
   ]
  },
  {
   "cell_type": "code",
   "execution_count": 3,
   "id": "4c4d4f8f",
   "metadata": {},
   "outputs": [],
   "source": [
    "recipe_request = response.json()"
   ]
  },
  {
   "cell_type": "code",
   "execution_count": null,
   "id": "07fb746d",
   "metadata": {},
   "outputs": [],
   "source": [
    "# Print next url\n",
    "next_url=url\n",
    "still_some_data = True"
   ]
  },
  {
   "cell_type": "markdown",
   "id": "2d49da39",
   "metadata": {},
   "source": [
    "# Print all data from API and save in Json"
   ]
  },
  {
   "cell_type": "code",
   "execution_count": null,
   "id": "2be06202",
   "metadata": {},
   "outputs": [],
   "source": [
    "# Print all data (deze laadt tot 1860)\n",
    "while still_some_data:\n",
    "    #print(f'Getting information for {next_url}')\n",
    "    response = requests.get(next_url, headers={\"Authorization\": \"ba71133c01e0c6f8f1f1ea2164505950\"}, params=querystring)\n",
    "    recipe_request = response.json()\n",
    "    time.sleep(6)\n",
    "    print(f'Getting data for '+str(recipe_request['to']))\n",
    "    if recipe_request['to']==recipe_request['count']:\n",
    "        still_some_data=False\n",
    "    if recipe_request['to']> recipe_request['count']:\n",
    "        still_some_data = False\n",
    "\n",
    "    next_url = recipe_request['_links']['next']['href']\n",
    "    \n",
    "    f = open('json_output.json','a',encoding='utf-8')\n",
    "    f.write(json.dumps(recipe_request))\n",
    "    f.write('\\n')\n",
    "    f.close()"
   ]
  },
  {
   "cell_type": "code",
   "execution_count": null,
   "id": "d347af6a",
   "metadata": {},
   "outputs": [],
   "source": [
    "recipe_request"
   ]
  },
  {
   "cell_type": "markdown",
   "id": "5e30031e",
   "metadata": {},
   "source": [
    "# Print macronutrients of lunch/dinner recipes"
   ]
  },
  {
   "cell_type": "code",
   "execution_count": null,
   "id": "85ee47b9",
   "metadata": {},
   "outputs": [],
   "source": [
    "import json\n",
    "\n",
    "f = open('json_output.json','r',encoding='utf-8')\n",
    "content = f.readlines()\n",
    "\n",
    "for c in content:\n",
    "    #c = content[0]\n",
    "\n",
    "    c_json = json.loads(c)\n",
    "\n",
    "    recipes = c_json['hits']\n",
    "\n",
    "    for recipe in recipes:\n",
    "        if (recipe[\"recipe\"][\"mealType\"][0]== 'lunch/dinner'):\n",
    "            print((recipe['recipe']['label']),\n",
    "                \"Protein =\", recipe['recipe'][\"totalNutrients\"]['PROCNT']['quantity'], \"g\",\n",
    "                \"Carbs =\", recipe['recipe'][\"totalNutrients\"]['CHOCDF']['quantity'], \"g\",\n",
    "                \"Fats =\", recipe['recipe'][\"totalNutrients\"]['FAT']['quantity'], \"g\")\n",
    "    f = open('recipes_macronutrients_output.json','w',encoding='utf-8')\n",
    "    f.write(json.dumps(recipe_request))\n",
    "    f.write('\\n')\n",
    "    f.close()"
   ]
  },
  {
   "cell_type": "code",
   "execution_count": null,
   "id": "3b400952",
   "metadata": {},
   "outputs": [],
   "source": [
    "import pandas as pd\n",
    "import json\n",
    "from pandas import json_normalize\n",
    "\n",
    "json_string = '{ \"Protein\": recipe['recipe'][\"totalNutrients\"]['PROCNT']['quantity'] +\"g\", \n",
    "                \"Carbs\": recipe['recipe'][\"totalNutrients\"]['CHOCDF']['quantity'] +\"g\",\n",
    "                \"Fats\": recipe['recipe'][\"totalNutrients\"]['FAT']['quantity'] +\"g\"}'\n",
    "\n",
    "DataFrame = json.loads(json_string)"
   ]
  },
  {
   "cell_type": "markdown",
   "id": "e7b10103",
   "metadata": {},
   "source": [
    "# Table:"
   ]
  },
  {
   "cell_type": "code",
   "execution_count": null,
   "id": "9121f7ed",
   "metadata": {},
   "outputs": [],
   "source": [
    "final_dataframe = pd.DataFrame(df)"
   ]
  },
  {
   "cell_type": "code",
   "execution_count": null,
   "id": "4a72e9a1",
   "metadata": {},
   "outputs": [],
   "source": [
    "final_dataframe.to_csv"
   ]
  }
 ],
 "metadata": {
  "kernelspec": {
   "display_name": "Python 3 (ipykernel)",
   "language": "python",
   "name": "python3"
  },
  "language_info": {
   "codemirror_mode": {
    "name": "ipython",
    "version": 3
   },
   "file_extension": ".py",
   "mimetype": "text/x-python",
   "name": "python",
   "nbconvert_exporter": "python",
   "pygments_lexer": "ipython3",
   "version": "3.9.12"
  }
 },
 "nbformat": 4,
 "nbformat_minor": 5
}
