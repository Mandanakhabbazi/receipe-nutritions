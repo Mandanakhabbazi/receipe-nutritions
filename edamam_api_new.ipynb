{
 "cells": [
  {
   "cell_type": "markdown",
   "id": "b0e13058",
   "metadata": {},
   "source": [
    "import packages"
   ]
  },
  {
   "cell_type": "code",
   "execution_count": 1,
   "id": "ecf35a7e",
   "metadata": {},
   "outputs": [],
   "source": [
    "import requests\n",
    "import json\n",
    "import selenium\n",
    "import pandas as pd\n",
    "import pickle\n",
    "import time"
   ]
  },
  {
   "cell_type": "markdown",
   "id": "774eb7b7",
   "metadata": {},
   "source": [
    "Get acces API"
   ]
  },
  {
   "cell_type": "code",
   "execution_count": 2,
   "id": "27b12446",
   "metadata": {},
   "outputs": [],
   "source": [
    "url = \"https://api.edamam.com/api/recipes/v2\"\n",
    "\n",
    "headers = {\"app_id\": \"b741d1eb\", \"app_key\": \"ba71133c01e0c6f8f1f1ea2164505950\"}\n",
    "\n",
    "querystring = {\"type\": \"public\", \"q\":\"keto\", \"app_id\": \"b741d1eb\", \"app_key\": \"ba71133c01e0c6f8f1f1ea2164505950\", \"from\": \"1\", \"to\": \"2323\"}\n",
    "\n",
    "response = requests.get(url, headers={\"Authorization\": \"ba71133c01e0c6f8f1f1ea2164505950\"}, params=querystring)"
   ]
  },
  {
   "cell_type": "code",
   "execution_count": 3,
   "id": "4c4d4f8f",
   "metadata": {},
   "outputs": [],
   "source": [
    "recipe_request = response.json()"
   ]
  },
  {
   "cell_type": "markdown",
   "id": "bb0d4ce6",
   "metadata": {},
   "source": [
    "Print url"
   ]
  },
  {
   "cell_type": "code",
   "execution_count": 4,
   "id": "8c846a73",
   "metadata": {},
   "outputs": [
    {
     "ename": "NameError",
     "evalue": "name 'next_url' is not defined",
     "output_type": "error",
     "traceback": [
      "\u001b[0;31m---------------------------------------------------------------------------\u001b[0m",
      "\u001b[0;31mNameError\u001b[0m                                 Traceback (most recent call last)",
      "Input \u001b[0;32mIn [4]\u001b[0m, in \u001b[0;36m<cell line: 2>\u001b[0;34m()\u001b[0m\n\u001b[1;32m      1\u001b[0m \u001b[38;5;66;03m# Trying to print next url\u001b[39;00m\n\u001b[0;32m----> 2\u001b[0m \u001b[38;5;28;01mfor\u001b[39;00m \u001b[38;5;28mnext\u001b[39m \u001b[38;5;129;01min\u001b[39;00m \u001b[43mnext_url\u001b[49m:\n\u001b[1;32m      3\u001b[0m  \u001b[38;5;28mprint\u001b[39m (recipe_request[\u001b[38;5;124m'\u001b[39m\u001b[38;5;124m_links\u001b[39m\u001b[38;5;124m'\u001b[39m][\u001b[38;5;124m'\u001b[39m\u001b[38;5;124mnext\u001b[39m\u001b[38;5;124m'\u001b[39m][\u001b[38;5;124m'\u001b[39m\u001b[38;5;124mhref\u001b[39m\u001b[38;5;124m'\u001b[39m])\n",
      "\u001b[0;31mNameError\u001b[0m: name 'next_url' is not defined"
     ]
    }
   ],
   "source": [
    "# Trying to print next url\n",
    "for next in next_url:\n",
    " print (recipe_request['_links']['next']['href'])"
   ]
  },
  {
   "cell_type": "code",
   "execution_count": 16,
   "id": "0c57faaf",
   "metadata": {},
   "outputs": [
    {
     "name": "stdout",
     "output_type": "stream",
     "text": [
      "Pesto Shrimp Skewers\n"
     ]
    }
   ],
   "source": [
    "paged = recipe_request['_links']['next']\n",
    "recipe_name = (recipe_request['hits'][19]['recipe']['label'])\n",
    "print (recipe_name)"
   ]
  },
  {
   "cell_type": "code",
   "execution_count": 11,
   "id": "c3a56368",
   "metadata": {},
   "outputs": [
    {
     "name": "stdout",
     "output_type": "stream",
     "text": [
      "https://api.edamam.com/api/recipes/v2?q=keto&app_key=ba71133c01e0c6f8f1f1ea2164505950&_cont=CHcVQBtNNQphDmgVQ3tAEX4BZ1dtBAAARWZFBGYRYl10AREbUWESUWIXZgN6VwRSFjFCCzASZlR1BAEDFmVDVjQQY1ImFm4bUTMCXD8BaVdzGBFEEjMVcDNPPBcqUUBlEjsXVnAZKBg-&from=1&to=2323&type=public&app_id=b741d1eb\n"
     ]
    }
   ],
   "source": [
    "paged = recipe_request['_links']['next']\n",
    "next_url = (recipe_request['_links']['next']['href'])\n",
    "print (next_url)"
   ]
  },
  {
   "cell_type": "markdown",
   "id": "2d49da39",
   "metadata": {},
   "source": [
    "Print all data from API and save in Json"
   ]
  },
  {
   "cell_type": "code",
   "execution_count": 23,
   "id": "2be06202",
   "metadata": {},
   "outputs": [
    {
     "name": "stdout",
     "output_type": "stream",
     "text": [
      "Getting information for https://api.edamam.com/api/recipes/v2?q=keto&app_key=ba71133c01e0c6f8f1f1ea2164505950&_cont=CHcVQBtNNQphDmgVQ3tAEX4BZ1dtBAAARWZFBGYRYl10AREbUWESUWIXZgN6VwRSFjFCCzASZlR1BAEDFmVDVjQQY1ImFm4bUTMCXD8BaVdzGBFEEjMVcDNPPBcqUUBlEjsXVnAZKBg-&from=1&to=2323&type=public&app_id=b741d1eb\n"
     ]
    },
    {
     "ename": "NameError",
     "evalue": "name 'display_recipe_labels' is not defined",
     "output_type": "error",
     "traceback": [
      "\u001b[0;31m---------------------------------------------------------------------------\u001b[0m",
      "\u001b[0;31mNameError\u001b[0m                                 Traceback (most recent call last)",
      "Input \u001b[0;32mIn [23]\u001b[0m, in \u001b[0;36m<cell line: 1>\u001b[0;34m()\u001b[0m\n\u001b[1;32m     10\u001b[0m f\u001b[38;5;241m.\u001b[39mwrite(\u001b[38;5;124m'\u001b[39m\u001b[38;5;130;01m\\n\u001b[39;00m\u001b[38;5;124m'\u001b[39m)\n\u001b[1;32m     11\u001b[0m f\u001b[38;5;241m.\u001b[39mclose()\n\u001b[0;32m---> 13\u001b[0m index \u001b[38;5;241m=\u001b[39m \u001b[43mdisplay_recipe_labels\u001b[49m(data, index)\n\u001b[1;32m     14\u001b[0m \u001b[38;5;28mprint\u001b[39m(\u001b[38;5;124mf\u001b[39m\u001b[38;5;124m\"\u001b[39m\u001b[38;5;124m   Select Recipe # (1-\u001b[39m\u001b[38;5;132;01m{\u001b[39;00mindex\u001b[38;5;132;01m}\u001b[39;00m\u001b[38;5;124m)\u001b[39m\u001b[38;5;130;01m\\n\u001b[39;00m\u001b[38;5;124m   (enter \u001b[39m\u001b[38;5;124m'\u001b[39m\u001b[38;5;124mm\u001b[39m\u001b[38;5;124m'\u001b[39m\u001b[38;5;124m to see more)\u001b[39m\u001b[38;5;124m\"\u001b[39m)\n\u001b[1;32m     15\u001b[0m select \u001b[38;5;241m=\u001b[39m select_from_index(index) \n",
      "\u001b[0;31mNameError\u001b[0m: name 'display_recipe_labels' is not defined"
     ]
    }
   ],
   "source": [
    "while 'https://' in next_url:\n",
    "    print(f'Getting information for {next_url}')\n",
    "    response = requests.get(url, headers={\"Authorization\": \"ba71133c01e0c6f8f1f1ea2164505950\"}, params=querystring)\n",
    "    recipe_request = response.json()\n",
    "    time.sleep(2)\n",
    "    next_url = recipe_request['_links']['next']['href']\n",
    "    \n",
    "    f = open('json_output.json','a',encoding='utf-8')\n",
    "    f.write(json.dumps(recipe_request))\n",
    "    f.write('\\n')\n",
    "    f.close()"
   ]
  },
  {
   "cell_type": "code",
   "execution_count": null,
   "id": "662c7818",
   "metadata": {},
   "outputs": [],
   "source": []
  },
  {
   "cell_type": "markdown",
   "id": "5e30031e",
   "metadata": {},
   "source": [
    "Print macronutrients of lunch/dinner recipes"
   ]
  },
  {
   "cell_type": "code",
   "execution_count": 58,
   "id": "85ee47b9",
   "metadata": {},
   "outputs": [
    {
     "name": "stdout",
     "output_type": "stream",
     "text": [
      "Keto Fat Bombs Protein = 49.188813770500005 g Carbs = 79.77950472949999 g Fats = 264.402713744 g\n",
      "Keto Egg Bites Recipe Protein = 92.86166374999999 g Carbs = 16.18961875 g Fats = 86.5060175 g\n",
      "Keto Key Lime Mousse Protein = 27.492599999999996 g Carbs = 23.581853333439 g Fats = 177.43161333448512 g\n",
      "Keto Peanut Butter Squares Protein = 130.00279276170835 g Carbs = 507.47609399902126 g Fats = 362.364999303189 g\n",
      "YOGURT RICE, REINVENTED THE KETO WAY! Protein = 21.227559999999997 g Carbs = 34.77966 g Fats = 27.736790000000003 g\n",
      "Keto Chicken Pot Pie Casserole Recipe Protein = 183.06637213462503 g Carbs = 66.94974243241005 g Fats = 330.42507908 g\n",
      "Chocolate Mousse (Paleo! Keto!) Protein = 20.232920000000004 g Carbs = 126.01262500000003 g Fats = 153.36332000000004 g\n",
      "Low-Carb Cloud Bread Protein = 21.41955 g Carbs = 4.95003 g Fats = 29.1594 g\n",
      "Cheesy Chaffle Sandwiches with Avocado & Bacon Protein = 118.399855 g Carbs = 41.697175 g Fats = 171.12136999999998 g\n",
      "SF/GF Orange & Clove Olive Oil Cake (Low-Carb/Keto Friendly) Protein = 74.1042774999809 g Carbs = 68.94642249993129 g Fats = 411.4706499999827 g\n",
      "Zucchini Noodles with Spicy Meatballs Recipe Protein = 57.79111424624999 g Carbs = 39.10083875 g Fats = 86.52511180075001 g\n",
      "Cauliflower Rice Recipe Protein = 21.067874999999642 g Carbs = 60.61287499999938 g Fats = 42.283689999999915 g\n",
      "Pesto Shrimp Skewers Protein = 17.977390273381324 g Carbs = 12.655856328119942 g Fats = 19.424986835894774 g\n",
      "Keto Fat Bombs Protein = 49.188813770500005 g Carbs = 79.77950472949999 g Fats = 264.402713744 g\n",
      "Keto Egg Bites Recipe Protein = 92.86166374999999 g Carbs = 16.18961875 g Fats = 86.5060175 g\n",
      "Keto Key Lime Mousse Protein = 27.492599999999996 g Carbs = 23.581853333439 g Fats = 177.43161333448512 g\n",
      "Keto Peanut Butter Squares Protein = 130.00279276170835 g Carbs = 507.47609399902126 g Fats = 362.364999303189 g\n",
      "YOGURT RICE, REINVENTED THE KETO WAY! Protein = 21.227559999999997 g Carbs = 34.77966 g Fats = 27.736790000000003 g\n",
      "Keto Chicken Pot Pie Casserole Recipe Protein = 183.06637213462503 g Carbs = 66.94974243241005 g Fats = 330.42507908 g\n",
      "Chocolate Mousse (Paleo! Keto!) Protein = 20.232920000000004 g Carbs = 126.01262500000003 g Fats = 153.36332000000004 g\n",
      "Low-Carb Cloud Bread Protein = 21.41955 g Carbs = 4.95003 g Fats = 29.1594 g\n",
      "Cheesy Chaffle Sandwiches with Avocado & Bacon Protein = 118.399855 g Carbs = 41.697175 g Fats = 171.12136999999998 g\n",
      "SF/GF Orange & Clove Olive Oil Cake (Low-Carb/Keto Friendly) Protein = 74.1042774999809 g Carbs = 68.94642249993129 g Fats = 411.4706499999827 g\n",
      "Zucchini Noodles with Spicy Meatballs Recipe Protein = 57.79111424624999 g Carbs = 39.10083875 g Fats = 86.52511180075001 g\n",
      "Cauliflower Rice Recipe Protein = 21.067874999999642 g Carbs = 60.61287499999938 g Fats = 42.283689999999915 g\n",
      "Pesto Shrimp Skewers Protein = 17.977390273381324 g Carbs = 12.655856328119942 g Fats = 19.424986835894774 g\n",
      "Keto Fat Bombs Protein = 49.188813770500005 g Carbs = 79.77950472949999 g Fats = 264.402713744 g\n",
      "Keto Egg Bites Recipe Protein = 92.86166374999999 g Carbs = 16.18961875 g Fats = 86.5060175 g\n",
      "Keto Key Lime Mousse Protein = 27.492599999999996 g Carbs = 23.581853333439 g Fats = 177.43161333448512 g\n",
      "Keto Peanut Butter Squares Protein = 130.00279276170835 g Carbs = 507.47609399902126 g Fats = 362.364999303189 g\n",
      "YOGURT RICE, REINVENTED THE KETO WAY! Protein = 21.227559999999997 g Carbs = 34.77966 g Fats = 27.736790000000003 g\n",
      "Keto Chicken Pot Pie Casserole Recipe Protein = 183.06637213462503 g Carbs = 66.94974243241005 g Fats = 330.42507908 g\n",
      "Chocolate Mousse (Paleo! Keto!) Protein = 20.232920000000004 g Carbs = 126.01262500000003 g Fats = 153.36332000000004 g\n",
      "Low-Carb Cloud Bread Protein = 21.41955 g Carbs = 4.95003 g Fats = 29.1594 g\n",
      "Cheesy Chaffle Sandwiches with Avocado & Bacon Protein = 118.399855 g Carbs = 41.697175 g Fats = 171.12136999999998 g\n",
      "SF/GF Orange & Clove Olive Oil Cake (Low-Carb/Keto Friendly) Protein = 74.1042774999809 g Carbs = 68.94642249993129 g Fats = 411.4706499999827 g\n",
      "Zucchini Noodles with Spicy Meatballs Recipe Protein = 57.79111424624999 g Carbs = 39.10083875 g Fats = 86.52511180075001 g\n",
      "Cauliflower Rice Recipe Protein = 21.067874999999642 g Carbs = 60.61287499999938 g Fats = 42.283689999999915 g\n",
      "Pesto Shrimp Skewers Protein = 17.977390273381324 g Carbs = 12.655856328119942 g Fats = 19.424986835894774 g\n",
      "Keto Fat Bombs Protein = 49.188813770500005 g Carbs = 79.77950472949999 g Fats = 264.402713744 g\n",
      "Keto Egg Bites Recipe Protein = 92.86166374999999 g Carbs = 16.18961875 g Fats = 86.5060175 g\n",
      "Keto Key Lime Mousse Protein = 27.492599999999996 g Carbs = 23.581853333439 g Fats = 177.43161333448512 g\n",
      "Keto Peanut Butter Squares Protein = 130.00279276170835 g Carbs = 507.47609399902126 g Fats = 362.364999303189 g\n",
      "YOGURT RICE, REINVENTED THE KETO WAY! Protein = 21.227559999999997 g Carbs = 34.77966 g Fats = 27.736790000000003 g\n",
      "Keto Chicken Pot Pie Casserole Recipe Protein = 183.06637213462503 g Carbs = 66.94974243241005 g Fats = 330.42507908 g\n",
      "Chocolate Mousse (Paleo! Keto!) Protein = 20.232920000000004 g Carbs = 126.01262500000003 g Fats = 153.36332000000004 g\n",
      "Low-Carb Cloud Bread Protein = 21.41955 g Carbs = 4.95003 g Fats = 29.1594 g\n",
      "Cheesy Chaffle Sandwiches with Avocado & Bacon Protein = 118.399855 g Carbs = 41.697175 g Fats = 171.12136999999998 g\n",
      "SF/GF Orange & Clove Olive Oil Cake (Low-Carb/Keto Friendly) Protein = 74.1042774999809 g Carbs = 68.94642249993129 g Fats = 411.4706499999827 g\n",
      "Zucchini Noodles with Spicy Meatballs Recipe Protein = 57.79111424624999 g Carbs = 39.10083875 g Fats = 86.52511180075001 g\n",
      "Cauliflower Rice Recipe Protein = 21.067874999999642 g Carbs = 60.61287499999938 g Fats = 42.283689999999915 g\n",
      "Pesto Shrimp Skewers Protein = 17.977390273381324 g Carbs = 12.655856328119942 g Fats = 19.424986835894774 g\n",
      "Keto Fat Bombs Protein = 49.188813770500005 g Carbs = 79.77950472949999 g Fats = 264.402713744 g\n",
      "Keto Egg Bites Recipe Protein = 92.86166374999999 g Carbs = 16.18961875 g Fats = 86.5060175 g\n",
      "Keto Key Lime Mousse Protein = 27.492599999999996 g Carbs = 23.581853333439 g Fats = 177.43161333448512 g\n",
      "Keto Peanut Butter Squares Protein = 130.00279276170835 g Carbs = 507.47609399902126 g Fats = 362.364999303189 g\n",
      "YOGURT RICE, REINVENTED THE KETO WAY! Protein = 21.227559999999997 g Carbs = 34.77966 g Fats = 27.736790000000003 g\n",
      "Keto Chicken Pot Pie Casserole Recipe Protein = 183.06637213462503 g Carbs = 66.94974243241005 g Fats = 330.42507908 g\n",
      "Chocolate Mousse (Paleo! Keto!) Protein = 20.232920000000004 g Carbs = 126.01262500000003 g Fats = 153.36332000000004 g\n",
      "Low-Carb Cloud Bread Protein = 21.41955 g Carbs = 4.95003 g Fats = 29.1594 g\n",
      "Cheesy Chaffle Sandwiches with Avocado & Bacon Protein = 118.399855 g Carbs = 41.697175 g Fats = 171.12136999999998 g\n",
      "SF/GF Orange & Clove Olive Oil Cake (Low-Carb/Keto Friendly) Protein = 74.1042774999809 g Carbs = 68.94642249993129 g Fats = 411.4706499999827 g\n",
      "Zucchini Noodles with Spicy Meatballs Recipe Protein = 57.79111424624999 g Carbs = 39.10083875 g Fats = 86.52511180075001 g\n",
      "Cauliflower Rice Recipe Protein = 21.067874999999642 g Carbs = 60.61287499999938 g Fats = 42.283689999999915 g\n",
      "Pesto Shrimp Skewers Protein = 17.977390273381324 g Carbs = 12.655856328119942 g Fats = 19.424986835894774 g\n",
      "Keto Fat Bombs Protein = 49.188813770500005 g Carbs = 79.77950472949999 g Fats = 264.402713744 g\n",
      "Keto Egg Bites Recipe Protein = 92.86166374999999 g Carbs = 16.18961875 g Fats = 86.5060175 g\n",
      "Keto Key Lime Mousse Protein = 27.492599999999996 g Carbs = 23.581853333439 g Fats = 177.43161333448512 g\n",
      "Keto Peanut Butter Squares Protein = 130.00279276170835 g Carbs = 507.47609399902126 g Fats = 362.364999303189 g\n",
      "YOGURT RICE, REINVENTED THE KETO WAY! Protein = 21.227559999999997 g Carbs = 34.77966 g Fats = 27.736790000000003 g\n",
      "Keto Chicken Pot Pie Casserole Recipe Protein = 183.06637213462503 g Carbs = 66.94974243241005 g Fats = 330.42507908 g\n",
      "Chocolate Mousse (Paleo! Keto!) Protein = 20.232920000000004 g Carbs = 126.01262500000003 g Fats = 153.36332000000004 g\n",
      "Low-Carb Cloud Bread Protein = 21.41955 g Carbs = 4.95003 g Fats = 29.1594 g\n",
      "Cheesy Chaffle Sandwiches with Avocado & Bacon Protein = 118.399855 g Carbs = 41.697175 g Fats = 171.12136999999998 g\n",
      "SF/GF Orange & Clove Olive Oil Cake (Low-Carb/Keto Friendly) Protein = 74.1042774999809 g Carbs = 68.94642249993129 g Fats = 411.4706499999827 g\n",
      "Zucchini Noodles with Spicy Meatballs Recipe Protein = 57.79111424624999 g Carbs = 39.10083875 g Fats = 86.52511180075001 g\n",
      "Cauliflower Rice Recipe Protein = 21.067874999999642 g Carbs = 60.61287499999938 g Fats = 42.283689999999915 g\n",
      "Pesto Shrimp Skewers Protein = 17.977390273381324 g Carbs = 12.655856328119942 g Fats = 19.424986835894774 g\n",
      "Keto Fat Bombs Protein = 49.188813770500005 g Carbs = 79.77950472949999 g Fats = 264.402713744 g\n",
      "Keto Egg Bites Recipe Protein = 92.86166374999999 g Carbs = 16.18961875 g Fats = 86.5060175 g\n",
      "Keto Key Lime Mousse Protein = 27.492599999999996 g Carbs = 23.581853333439 g Fats = 177.43161333448512 g\n",
      "Keto Peanut Butter Squares Protein = 130.00279276170835 g Carbs = 507.47609399902126 g Fats = 362.364999303189 g\n",
      "YOGURT RICE, REINVENTED THE KETO WAY! Protein = 21.227559999999997 g Carbs = 34.77966 g Fats = 27.736790000000003 g\n",
      "Keto Chicken Pot Pie Casserole Recipe Protein = 183.06637213462503 g Carbs = 66.94974243241005 g Fats = 330.42507908 g\n",
      "Chocolate Mousse (Paleo! Keto!) Protein = 20.232920000000004 g Carbs = 126.01262500000003 g Fats = 153.36332000000004 g\n",
      "Low-Carb Cloud Bread Protein = 21.41955 g Carbs = 4.95003 g Fats = 29.1594 g\n",
      "Cheesy Chaffle Sandwiches with Avocado & Bacon Protein = 118.399855 g Carbs = 41.697175 g Fats = 171.12136999999998 g\n",
      "SF/GF Orange & Clove Olive Oil Cake (Low-Carb/Keto Friendly) Protein = 74.1042774999809 g Carbs = 68.94642249993129 g Fats = 411.4706499999827 g\n",
      "Zucchini Noodles with Spicy Meatballs Recipe Protein = 57.79111424624999 g Carbs = 39.10083875 g Fats = 86.52511180075001 g\n",
      "Cauliflower Rice Recipe Protein = 21.067874999999642 g Carbs = 60.61287499999938 g Fats = 42.283689999999915 g\n",
      "Pesto Shrimp Skewers Protein = 17.977390273381324 g Carbs = 12.655856328119942 g Fats = 19.424986835894774 g\n",
      "Keto Fat Bombs Protein = 49.188813770500005 g Carbs = 79.77950472949999 g Fats = 264.402713744 g\n",
      "Keto Egg Bites Recipe Protein = 92.86166374999999 g Carbs = 16.18961875 g Fats = 86.5060175 g\n",
      "Keto Key Lime Mousse Protein = 27.492599999999996 g Carbs = 23.581853333439 g Fats = 177.43161333448512 g\n",
      "Keto Peanut Butter Squares Protein = 130.00279276170835 g Carbs = 507.47609399902126 g Fats = 362.364999303189 g\n",
      "YOGURT RICE, REINVENTED THE KETO WAY! Protein = 21.227559999999997 g Carbs = 34.77966 g Fats = 27.736790000000003 g\n",
      "Keto Chicken Pot Pie Casserole Recipe Protein = 183.06637213462503 g Carbs = 66.94974243241005 g Fats = 330.42507908 g\n",
      "Chocolate Mousse (Paleo! Keto!) Protein = 20.232920000000004 g Carbs = 126.01262500000003 g Fats = 153.36332000000004 g\n",
      "Low-Carb Cloud Bread Protein = 21.41955 g Carbs = 4.95003 g Fats = 29.1594 g\n",
      "Cheesy Chaffle Sandwiches with Avocado & Bacon Protein = 118.399855 g Carbs = 41.697175 g Fats = 171.12136999999998 g\n",
      "SF/GF Orange & Clove Olive Oil Cake (Low-Carb/Keto Friendly) Protein = 74.1042774999809 g Carbs = 68.94642249993129 g Fats = 411.4706499999827 g\n",
      "Zucchini Noodles with Spicy Meatballs Recipe Protein = 57.79111424624999 g Carbs = 39.10083875 g Fats = 86.52511180075001 g\n",
      "Cauliflower Rice Recipe Protein = 21.067874999999642 g Carbs = 60.61287499999938 g Fats = 42.283689999999915 g\n",
      "Pesto Shrimp Skewers Protein = 17.977390273381324 g Carbs = 12.655856328119942 g Fats = 19.424986835894774 g\n",
      "Keto Fat Bombs Protein = 49.188813770500005 g Carbs = 79.77950472949999 g Fats = 264.402713744 g\n",
      "Keto Egg Bites Recipe Protein = 92.86166374999999 g Carbs = 16.18961875 g Fats = 86.5060175 g\n",
      "Keto Key Lime Mousse Protein = 27.492599999999996 g Carbs = 23.581853333439 g Fats = 177.43161333448512 g\n",
      "Keto Peanut Butter Squares Protein = 130.00279276170835 g Carbs = 507.47609399902126 g Fats = 362.364999303189 g\n",
      "YOGURT RICE, REINVENTED THE KETO WAY! Protein = 21.227559999999997 g Carbs = 34.77966 g Fats = 27.736790000000003 g\n",
      "Keto Chicken Pot Pie Casserole Recipe Protein = 183.06637213462503 g Carbs = 66.94974243241005 g Fats = 330.42507908 g\n",
      "Chocolate Mousse (Paleo! Keto!) Protein = 20.232920000000004 g Carbs = 126.01262500000003 g Fats = 153.36332000000004 g\n",
      "Low-Carb Cloud Bread Protein = 21.41955 g Carbs = 4.95003 g Fats = 29.1594 g\n",
      "Cheesy Chaffle Sandwiches with Avocado & Bacon Protein = 118.399855 g Carbs = 41.697175 g Fats = 171.12136999999998 g\n",
      "SF/GF Orange & Clove Olive Oil Cake (Low-Carb/Keto Friendly) Protein = 74.1042774999809 g Carbs = 68.94642249993129 g Fats = 411.4706499999827 g\n",
      "Zucchini Noodles with Spicy Meatballs Recipe Protein = 57.79111424624999 g Carbs = 39.10083875 g Fats = 86.52511180075001 g\n",
      "Cauliflower Rice Recipe Protein = 21.067874999999642 g Carbs = 60.61287499999938 g Fats = 42.283689999999915 g\n",
      "Pesto Shrimp Skewers Protein = 17.977390273381324 g Carbs = 12.655856328119942 g Fats = 19.424986835894774 g\n",
      "Keto Fat Bombs Protein = 49.188813770500005 g Carbs = 79.77950472949999 g Fats = 264.402713744 g\n",
      "Keto Egg Bites Recipe Protein = 92.86166374999999 g Carbs = 16.18961875 g Fats = 86.5060175 g\n",
      "Keto Key Lime Mousse Protein = 27.492599999999996 g Carbs = 23.581853333439 g Fats = 177.43161333448512 g\n",
      "Keto Peanut Butter Squares Protein = 130.00279276170835 g Carbs = 507.47609399902126 g Fats = 362.364999303189 g\n",
      "YOGURT RICE, REINVENTED THE KETO WAY! Protein = 21.227559999999997 g Carbs = 34.77966 g Fats = 27.736790000000003 g\n",
      "Keto Chicken Pot Pie Casserole Recipe Protein = 183.06637213462503 g Carbs = 66.94974243241005 g Fats = 330.42507908 g\n",
      "Chocolate Mousse (Paleo! Keto!) Protein = 20.232920000000004 g Carbs = 126.01262500000003 g Fats = 153.36332000000004 g\n",
      "Low-Carb Cloud Bread Protein = 21.41955 g Carbs = 4.95003 g Fats = 29.1594 g\n",
      "Cheesy Chaffle Sandwiches with Avocado & Bacon Protein = 118.399855 g Carbs = 41.697175 g Fats = 171.12136999999998 g\n",
      "SF/GF Orange & Clove Olive Oil Cake (Low-Carb/Keto Friendly) Protein = 74.1042774999809 g Carbs = 68.94642249993129 g Fats = 411.4706499999827 g\n",
      "Zucchini Noodles with Spicy Meatballs Recipe Protein = 57.79111424624999 g Carbs = 39.10083875 g Fats = 86.52511180075001 g\n",
      "Cauliflower Rice Recipe Protein = 21.067874999999642 g Carbs = 60.61287499999938 g Fats = 42.283689999999915 g\n",
      "Pesto Shrimp Skewers Protein = 17.977390273381324 g Carbs = 12.655856328119942 g Fats = 19.424986835894774 g\n",
      "Keto Fat Bombs Protein = 49.188813770500005 g Carbs = 79.77950472949999 g Fats = 264.402713744 g\n",
      "Keto Egg Bites Recipe Protein = 92.86166374999999 g Carbs = 16.18961875 g Fats = 86.5060175 g\n",
      "Keto Key Lime Mousse Protein = 27.492599999999996 g Carbs = 23.581853333439 g Fats = 177.43161333448512 g\n",
      "Keto Peanut Butter Squares Protein = 130.00279276170835 g Carbs = 507.47609399902126 g Fats = 362.364999303189 g\n",
      "YOGURT RICE, REINVENTED THE KETO WAY! Protein = 21.227559999999997 g Carbs = 34.77966 g Fats = 27.736790000000003 g\n",
      "Keto Chicken Pot Pie Casserole Recipe Protein = 183.06637213462503 g Carbs = 66.94974243241005 g Fats = 330.42507908 g\n",
      "Chocolate Mousse (Paleo! Keto!) Protein = 20.232920000000004 g Carbs = 126.01262500000003 g Fats = 153.36332000000004 g\n",
      "Low-Carb Cloud Bread Protein = 21.41955 g Carbs = 4.95003 g Fats = 29.1594 g\n",
      "Cheesy Chaffle Sandwiches with Avocado & Bacon Protein = 118.399855 g Carbs = 41.697175 g Fats = 171.12136999999998 g\n",
      "SF/GF Orange & Clove Olive Oil Cake (Low-Carb/Keto Friendly) Protein = 74.1042774999809 g Carbs = 68.94642249993129 g Fats = 411.4706499999827 g\n",
      "Zucchini Noodles with Spicy Meatballs Recipe Protein = 57.79111424624999 g Carbs = 39.10083875 g Fats = 86.52511180075001 g\n",
      "Cauliflower Rice Recipe Protein = 21.067874999999642 g Carbs = 60.61287499999938 g Fats = 42.283689999999915 g\n",
      "Pesto Shrimp Skewers Protein = 17.977390273381324 g Carbs = 12.655856328119942 g Fats = 19.424986835894774 g\n"
     ]
    },
    {
     "name": "stdout",
     "output_type": "stream",
     "text": [
      "Keto Fat Bombs Protein = 49.188813770500005 g Carbs = 79.77950472949999 g Fats = 264.402713744 g\n",
      "Keto Egg Bites Recipe Protein = 92.86166374999999 g Carbs = 16.18961875 g Fats = 86.5060175 g\n",
      "Keto Key Lime Mousse Protein = 27.492599999999996 g Carbs = 23.581853333439 g Fats = 177.43161333448512 g\n",
      "Keto Peanut Butter Squares Protein = 130.00279276170835 g Carbs = 507.47609399902126 g Fats = 362.364999303189 g\n",
      "YOGURT RICE, REINVENTED THE KETO WAY! Protein = 21.227559999999997 g Carbs = 34.77966 g Fats = 27.736790000000003 g\n",
      "Keto Chicken Pot Pie Casserole Recipe Protein = 183.06637213462503 g Carbs = 66.94974243241005 g Fats = 330.42507908 g\n",
      "Chocolate Mousse (Paleo! Keto!) Protein = 20.232920000000004 g Carbs = 126.01262500000003 g Fats = 153.36332000000004 g\n",
      "Low-Carb Cloud Bread Protein = 21.41955 g Carbs = 4.95003 g Fats = 29.1594 g\n",
      "Cheesy Chaffle Sandwiches with Avocado & Bacon Protein = 118.399855 g Carbs = 41.697175 g Fats = 171.12136999999998 g\n",
      "SF/GF Orange & Clove Olive Oil Cake (Low-Carb/Keto Friendly) Protein = 74.1042774999809 g Carbs = 68.94642249993129 g Fats = 411.4706499999827 g\n",
      "Zucchini Noodles with Spicy Meatballs Recipe Protein = 57.79111424624999 g Carbs = 39.10083875 g Fats = 86.52511180075001 g\n",
      "Cauliflower Rice Recipe Protein = 21.067874999999642 g Carbs = 60.61287499999938 g Fats = 42.283689999999915 g\n",
      "Pesto Shrimp Skewers Protein = 17.977390273381324 g Carbs = 12.655856328119942 g Fats = 19.424986835894774 g\n",
      "Keto Fat Bombs Protein = 49.188813770500005 g Carbs = 79.77950472949999 g Fats = 264.402713744 g\n",
      "Keto Egg Bites Recipe Protein = 92.86166374999999 g Carbs = 16.18961875 g Fats = 86.5060175 g\n",
      "Keto Key Lime Mousse Protein = 27.492599999999996 g Carbs = 23.581853333439 g Fats = 177.43161333448512 g\n",
      "Keto Peanut Butter Squares Protein = 130.00279276170835 g Carbs = 507.47609399902126 g Fats = 362.364999303189 g\n",
      "YOGURT RICE, REINVENTED THE KETO WAY! Protein = 21.227559999999997 g Carbs = 34.77966 g Fats = 27.736790000000003 g\n",
      "Keto Chicken Pot Pie Casserole Recipe Protein = 183.06637213462503 g Carbs = 66.94974243241005 g Fats = 330.42507908 g\n",
      "Chocolate Mousse (Paleo! Keto!) Protein = 20.232920000000004 g Carbs = 126.01262500000003 g Fats = 153.36332000000004 g\n",
      "Low-Carb Cloud Bread Protein = 21.41955 g Carbs = 4.95003 g Fats = 29.1594 g\n",
      "Cheesy Chaffle Sandwiches with Avocado & Bacon Protein = 118.399855 g Carbs = 41.697175 g Fats = 171.12136999999998 g\n",
      "SF/GF Orange & Clove Olive Oil Cake (Low-Carb/Keto Friendly) Protein = 74.1042774999809 g Carbs = 68.94642249993129 g Fats = 411.4706499999827 g\n",
      "Zucchini Noodles with Spicy Meatballs Recipe Protein = 57.79111424624999 g Carbs = 39.10083875 g Fats = 86.52511180075001 g\n",
      "Cauliflower Rice Recipe Protein = 21.067874999999642 g Carbs = 60.61287499999938 g Fats = 42.283689999999915 g\n",
      "Pesto Shrimp Skewers Protein = 17.977390273381324 g Carbs = 12.655856328119942 g Fats = 19.424986835894774 g\n",
      "Keto Fat Bombs Protein = 49.188813770500005 g Carbs = 79.77950472949999 g Fats = 264.402713744 g\n",
      "Keto Egg Bites Recipe Protein = 92.86166374999999 g Carbs = 16.18961875 g Fats = 86.5060175 g\n",
      "Keto Key Lime Mousse Protein = 27.492599999999996 g Carbs = 23.581853333439 g Fats = 177.43161333448512 g\n",
      "Keto Peanut Butter Squares Protein = 130.00279276170835 g Carbs = 507.47609399902126 g Fats = 362.364999303189 g\n",
      "YOGURT RICE, REINVENTED THE KETO WAY! Protein = 21.227559999999997 g Carbs = 34.77966 g Fats = 27.736790000000003 g\n",
      "Keto Chicken Pot Pie Casserole Recipe Protein = 183.06637213462503 g Carbs = 66.94974243241005 g Fats = 330.42507908 g\n",
      "Chocolate Mousse (Paleo! Keto!) Protein = 20.232920000000004 g Carbs = 126.01262500000003 g Fats = 153.36332000000004 g\n",
      "Low-Carb Cloud Bread Protein = 21.41955 g Carbs = 4.95003 g Fats = 29.1594 g\n",
      "Cheesy Chaffle Sandwiches with Avocado & Bacon Protein = 118.399855 g Carbs = 41.697175 g Fats = 171.12136999999998 g\n",
      "SF/GF Orange & Clove Olive Oil Cake (Low-Carb/Keto Friendly) Protein = 74.1042774999809 g Carbs = 68.94642249993129 g Fats = 411.4706499999827 g\n",
      "Zucchini Noodles with Spicy Meatballs Recipe Protein = 57.79111424624999 g Carbs = 39.10083875 g Fats = 86.52511180075001 g\n",
      "Cauliflower Rice Recipe Protein = 21.067874999999642 g Carbs = 60.61287499999938 g Fats = 42.283689999999915 g\n",
      "Pesto Shrimp Skewers Protein = 17.977390273381324 g Carbs = 12.655856328119942 g Fats = 19.424986835894774 g\n",
      "Keto Fat Bombs Protein = 49.188813770500005 g Carbs = 79.77950472949999 g Fats = 264.402713744 g\n",
      "Keto Egg Bites Recipe Protein = 92.86166374999999 g Carbs = 16.18961875 g Fats = 86.5060175 g\n",
      "Keto Key Lime Mousse Protein = 27.492599999999996 g Carbs = 23.581853333439 g Fats = 177.43161333448512 g\n",
      "Keto Peanut Butter Squares Protein = 130.00279276170835 g Carbs = 507.47609399902126 g Fats = 362.364999303189 g\n",
      "YOGURT RICE, REINVENTED THE KETO WAY! Protein = 21.227559999999997 g Carbs = 34.77966 g Fats = 27.736790000000003 g\n",
      "Keto Chicken Pot Pie Casserole Recipe Protein = 183.06637213462503 g Carbs = 66.94974243241005 g Fats = 330.42507908 g\n",
      "Chocolate Mousse (Paleo! Keto!) Protein = 20.232920000000004 g Carbs = 126.01262500000003 g Fats = 153.36332000000004 g\n",
      "Low-Carb Cloud Bread Protein = 21.41955 g Carbs = 4.95003 g Fats = 29.1594 g\n",
      "Cheesy Chaffle Sandwiches with Avocado & Bacon Protein = 118.399855 g Carbs = 41.697175 g Fats = 171.12136999999998 g\n",
      "SF/GF Orange & Clove Olive Oil Cake (Low-Carb/Keto Friendly) Protein = 74.1042774999809 g Carbs = 68.94642249993129 g Fats = 411.4706499999827 g\n",
      "Zucchini Noodles with Spicy Meatballs Recipe Protein = 57.79111424624999 g Carbs = 39.10083875 g Fats = 86.52511180075001 g\n",
      "Cauliflower Rice Recipe Protein = 21.067874999999642 g Carbs = 60.61287499999938 g Fats = 42.283689999999915 g\n",
      "Pesto Shrimp Skewers Protein = 17.977390273381324 g Carbs = 12.655856328119942 g Fats = 19.424986835894774 g\n",
      "Keto Fat Bombs Protein = 49.188813770500005 g Carbs = 79.77950472949999 g Fats = 264.402713744 g\n",
      "Keto Egg Bites Recipe Protein = 92.86166374999999 g Carbs = 16.18961875 g Fats = 86.5060175 g\n",
      "Keto Key Lime Mousse Protein = 27.492599999999996 g Carbs = 23.581853333439 g Fats = 177.43161333448512 g\n",
      "Keto Peanut Butter Squares Protein = 130.00279276170835 g Carbs = 507.47609399902126 g Fats = 362.364999303189 g\n",
      "YOGURT RICE, REINVENTED THE KETO WAY! Protein = 21.227559999999997 g Carbs = 34.77966 g Fats = 27.736790000000003 g\n",
      "Keto Chicken Pot Pie Casserole Recipe Protein = 183.06637213462503 g Carbs = 66.94974243241005 g Fats = 330.42507908 g\n",
      "Chocolate Mousse (Paleo! Keto!) Protein = 20.232920000000004 g Carbs = 126.01262500000003 g Fats = 153.36332000000004 g\n",
      "Low-Carb Cloud Bread Protein = 21.41955 g Carbs = 4.95003 g Fats = 29.1594 g\n",
      "Cheesy Chaffle Sandwiches with Avocado & Bacon Protein = 118.399855 g Carbs = 41.697175 g Fats = 171.12136999999998 g\n",
      "SF/GF Orange & Clove Olive Oil Cake (Low-Carb/Keto Friendly) Protein = 74.1042774999809 g Carbs = 68.94642249993129 g Fats = 411.4706499999827 g\n",
      "Zucchini Noodles with Spicy Meatballs Recipe Protein = 57.79111424624999 g Carbs = 39.10083875 g Fats = 86.52511180075001 g\n",
      "Cauliflower Rice Recipe Protein = 21.067874999999642 g Carbs = 60.61287499999938 g Fats = 42.283689999999915 g\n",
      "Pesto Shrimp Skewers Protein = 17.977390273381324 g Carbs = 12.655856328119942 g Fats = 19.424986835894774 g\n",
      "Keto Fat Bombs Protein = 49.188813770500005 g Carbs = 79.77950472949999 g Fats = 264.402713744 g\n",
      "Keto Egg Bites Recipe Protein = 92.86166374999999 g Carbs = 16.18961875 g Fats = 86.5060175 g\n",
      "Keto Key Lime Mousse Protein = 27.492599999999996 g Carbs = 23.581853333439 g Fats = 177.43161333448512 g\n",
      "Keto Peanut Butter Squares Protein = 130.00279276170835 g Carbs = 507.47609399902126 g Fats = 362.364999303189 g\n",
      "YOGURT RICE, REINVENTED THE KETO WAY! Protein = 21.227559999999997 g Carbs = 34.77966 g Fats = 27.736790000000003 g\n",
      "Keto Chicken Pot Pie Casserole Recipe Protein = 183.06637213462503 g Carbs = 66.94974243241005 g Fats = 330.42507908 g\n",
      "Chocolate Mousse (Paleo! Keto!) Protein = 20.232920000000004 g Carbs = 126.01262500000003 g Fats = 153.36332000000004 g\n",
      "Low-Carb Cloud Bread Protein = 21.41955 g Carbs = 4.95003 g Fats = 29.1594 g\n",
      "Cheesy Chaffle Sandwiches with Avocado & Bacon Protein = 118.399855 g Carbs = 41.697175 g Fats = 171.12136999999998 g\n",
      "SF/GF Orange & Clove Olive Oil Cake (Low-Carb/Keto Friendly) Protein = 74.1042774999809 g Carbs = 68.94642249993129 g Fats = 411.4706499999827 g\n",
      "Zucchini Noodles with Spicy Meatballs Recipe Protein = 57.79111424624999 g Carbs = 39.10083875 g Fats = 86.52511180075001 g\n",
      "Cauliflower Rice Recipe Protein = 21.067874999999642 g Carbs = 60.61287499999938 g Fats = 42.283689999999915 g\n",
      "Pesto Shrimp Skewers Protein = 17.977390273381324 g Carbs = 12.655856328119942 g Fats = 19.424986835894774 g\n",
      "Keto Fat Bombs Protein = 49.188813770500005 g Carbs = 79.77950472949999 g Fats = 264.402713744 g\n",
      "Keto Egg Bites Recipe Protein = 92.86166374999999 g Carbs = 16.18961875 g Fats = 86.5060175 g\n",
      "Keto Key Lime Mousse Protein = 27.492599999999996 g Carbs = 23.581853333439 g Fats = 177.43161333448512 g\n",
      "Keto Peanut Butter Squares Protein = 130.00279276170835 g Carbs = 507.47609399902126 g Fats = 362.364999303189 g\n",
      "YOGURT RICE, REINVENTED THE KETO WAY! Protein = 21.227559999999997 g Carbs = 34.77966 g Fats = 27.736790000000003 g\n",
      "Keto Chicken Pot Pie Casserole Recipe Protein = 183.06637213462503 g Carbs = 66.94974243241005 g Fats = 330.42507908 g\n",
      "Chocolate Mousse (Paleo! Keto!) Protein = 20.232920000000004 g Carbs = 126.01262500000003 g Fats = 153.36332000000004 g\n",
      "Low-Carb Cloud Bread Protein = 21.41955 g Carbs = 4.95003 g Fats = 29.1594 g\n",
      "Cheesy Chaffle Sandwiches with Avocado & Bacon Protein = 118.399855 g Carbs = 41.697175 g Fats = 171.12136999999998 g\n",
      "SF/GF Orange & Clove Olive Oil Cake (Low-Carb/Keto Friendly) Protein = 74.1042774999809 g Carbs = 68.94642249993129 g Fats = 411.4706499999827 g\n",
      "Zucchini Noodles with Spicy Meatballs Recipe Protein = 57.79111424624999 g Carbs = 39.10083875 g Fats = 86.52511180075001 g\n",
      "Cauliflower Rice Recipe Protein = 21.067874999999642 g Carbs = 60.61287499999938 g Fats = 42.283689999999915 g\n",
      "Pesto Shrimp Skewers Protein = 17.977390273381324 g Carbs = 12.655856328119942 g Fats = 19.424986835894774 g\n",
      "Keto Fat Bombs Protein = 49.188813770500005 g Carbs = 79.77950472949999 g Fats = 264.402713744 g\n",
      "Keto Egg Bites Recipe Protein = 92.86166374999999 g Carbs = 16.18961875 g Fats = 86.5060175 g\n",
      "Keto Key Lime Mousse Protein = 27.492599999999996 g Carbs = 23.581853333439 g Fats = 177.43161333448512 g\n",
      "Keto Peanut Butter Squares Protein = 130.00279276170835 g Carbs = 507.47609399902126 g Fats = 362.364999303189 g\n",
      "YOGURT RICE, REINVENTED THE KETO WAY! Protein = 21.227559999999997 g Carbs = 34.77966 g Fats = 27.736790000000003 g\n",
      "Keto Chicken Pot Pie Casserole Recipe Protein = 183.06637213462503 g Carbs = 66.94974243241005 g Fats = 330.42507908 g\n",
      "Chocolate Mousse (Paleo! Keto!) Protein = 20.232920000000004 g Carbs = 126.01262500000003 g Fats = 153.36332000000004 g\n",
      "Low-Carb Cloud Bread Protein = 21.41955 g Carbs = 4.95003 g Fats = 29.1594 g\n",
      "Cheesy Chaffle Sandwiches with Avocado & Bacon Protein = 118.399855 g Carbs = 41.697175 g Fats = 171.12136999999998 g\n",
      "SF/GF Orange & Clove Olive Oil Cake (Low-Carb/Keto Friendly) Protein = 74.1042774999809 g Carbs = 68.94642249993129 g Fats = 411.4706499999827 g\n",
      "Zucchini Noodles with Spicy Meatballs Recipe Protein = 57.79111424624999 g Carbs = 39.10083875 g Fats = 86.52511180075001 g\n",
      "Cauliflower Rice Recipe Protein = 21.067874999999642 g Carbs = 60.61287499999938 g Fats = 42.283689999999915 g\n",
      "Pesto Shrimp Skewers Protein = 17.977390273381324 g Carbs = 12.655856328119942 g Fats = 19.424986835894774 g\n",
      "Keto Fat Bombs Protein = 49.188813770500005 g Carbs = 79.77950472949999 g Fats = 264.402713744 g\n",
      "Keto Egg Bites Recipe Protein = 92.86166374999999 g Carbs = 16.18961875 g Fats = 86.5060175 g\n",
      "Keto Key Lime Mousse Protein = 27.492599999999996 g Carbs = 23.581853333439 g Fats = 177.43161333448512 g\n",
      "Keto Peanut Butter Squares Protein = 130.00279276170835 g Carbs = 507.47609399902126 g Fats = 362.364999303189 g\n",
      "YOGURT RICE, REINVENTED THE KETO WAY! Protein = 21.227559999999997 g Carbs = 34.77966 g Fats = 27.736790000000003 g\n",
      "Keto Chicken Pot Pie Casserole Recipe Protein = 183.06637213462503 g Carbs = 66.94974243241005 g Fats = 330.42507908 g\n",
      "Chocolate Mousse (Paleo! Keto!) Protein = 20.232920000000004 g Carbs = 126.01262500000003 g Fats = 153.36332000000004 g\n",
      "Low-Carb Cloud Bread Protein = 21.41955 g Carbs = 4.95003 g Fats = 29.1594 g\n",
      "Cheesy Chaffle Sandwiches with Avocado & Bacon Protein = 118.399855 g Carbs = 41.697175 g Fats = 171.12136999999998 g\n",
      "SF/GF Orange & Clove Olive Oil Cake (Low-Carb/Keto Friendly) Protein = 74.1042774999809 g Carbs = 68.94642249993129 g Fats = 411.4706499999827 g\n",
      "Zucchini Noodles with Spicy Meatballs Recipe Protein = 57.79111424624999 g Carbs = 39.10083875 g Fats = 86.52511180075001 g\n",
      "Cauliflower Rice Recipe Protein = 21.067874999999642 g Carbs = 60.61287499999938 g Fats = 42.283689999999915 g\n",
      "Pesto Shrimp Skewers Protein = 17.977390273381324 g Carbs = 12.655856328119942 g Fats = 19.424986835894774 g\n",
      "Keto Fat Bombs Protein = 49.188813770500005 g Carbs = 79.77950472949999 g Fats = 264.402713744 g\n",
      "Keto Egg Bites Recipe Protein = 92.86166374999999 g Carbs = 16.18961875 g Fats = 86.5060175 g\n",
      "Keto Key Lime Mousse Protein = 27.492599999999996 g Carbs = 23.581853333439 g Fats = 177.43161333448512 g\n",
      "Keto Peanut Butter Squares Protein = 130.00279276170835 g Carbs = 507.47609399902126 g Fats = 362.364999303189 g\n",
      "YOGURT RICE, REINVENTED THE KETO WAY! Protein = 21.227559999999997 g Carbs = 34.77966 g Fats = 27.736790000000003 g\n",
      "Keto Chicken Pot Pie Casserole Recipe Protein = 183.06637213462503 g Carbs = 66.94974243241005 g Fats = 330.42507908 g\n",
      "Chocolate Mousse (Paleo! Keto!) Protein = 20.232920000000004 g Carbs = 126.01262500000003 g Fats = 153.36332000000004 g\n",
      "Low-Carb Cloud Bread Protein = 21.41955 g Carbs = 4.95003 g Fats = 29.1594 g\n",
      "Cheesy Chaffle Sandwiches with Avocado & Bacon Protein = 118.399855 g Carbs = 41.697175 g Fats = 171.12136999999998 g\n",
      "SF/GF Orange & Clove Olive Oil Cake (Low-Carb/Keto Friendly) Protein = 74.1042774999809 g Carbs = 68.94642249993129 g Fats = 411.4706499999827 g\n",
      "Zucchini Noodles with Spicy Meatballs Recipe Protein = 57.79111424624999 g Carbs = 39.10083875 g Fats = 86.52511180075001 g\n",
      "Cauliflower Rice Recipe Protein = 21.067874999999642 g Carbs = 60.61287499999938 g Fats = 42.283689999999915 g\n",
      "Pesto Shrimp Skewers Protein = 17.977390273381324 g Carbs = 12.655856328119942 g Fats = 19.424986835894774 g\n",
      "Keto Fat Bombs Protein = 49.188813770500005 g Carbs = 79.77950472949999 g Fats = 264.402713744 g\n",
      "Keto Egg Bites Recipe Protein = 92.86166374999999 g Carbs = 16.18961875 g Fats = 86.5060175 g\n",
      "Keto Key Lime Mousse Protein = 27.492599999999996 g Carbs = 23.581853333439 g Fats = 177.43161333448512 g\n",
      "Keto Peanut Butter Squares Protein = 130.00279276170835 g Carbs = 507.47609399902126 g Fats = 362.364999303189 g\n",
      "YOGURT RICE, REINVENTED THE KETO WAY! Protein = 21.227559999999997 g Carbs = 34.77966 g Fats = 27.736790000000003 g\n",
      "Keto Chicken Pot Pie Casserole Recipe Protein = 183.06637213462503 g Carbs = 66.94974243241005 g Fats = 330.42507908 g\n",
      "Chocolate Mousse (Paleo! Keto!) Protein = 20.232920000000004 g Carbs = 126.01262500000003 g Fats = 153.36332000000004 g\n",
      "Low-Carb Cloud Bread Protein = 21.41955 g Carbs = 4.95003 g Fats = 29.1594 g\n",
      "Cheesy Chaffle Sandwiches with Avocado & Bacon Protein = 118.399855 g Carbs = 41.697175 g Fats = 171.12136999999998 g\n",
      "SF/GF Orange & Clove Olive Oil Cake (Low-Carb/Keto Friendly) Protein = 74.1042774999809 g Carbs = 68.94642249993129 g Fats = 411.4706499999827 g\n",
      "Zucchini Noodles with Spicy Meatballs Recipe Protein = 57.79111424624999 g Carbs = 39.10083875 g Fats = 86.52511180075001 g\n",
      "Cauliflower Rice Recipe Protein = 21.067874999999642 g Carbs = 60.61287499999938 g Fats = 42.283689999999915 g\n",
      "Pesto Shrimp Skewers Protein = 17.977390273381324 g Carbs = 12.655856328119942 g Fats = 19.424986835894774 g\n",
      "Keto Fat Bombs Protein = 49.188813770500005 g Carbs = 79.77950472949999 g Fats = 264.402713744 g\n",
      "Keto Egg Bites Recipe Protein = 92.86166374999999 g Carbs = 16.18961875 g Fats = 86.5060175 g\n",
      "Keto Key Lime Mousse Protein = 27.492599999999996 g Carbs = 23.581853333439 g Fats = 177.43161333448512 g\n",
      "Keto Peanut Butter Squares Protein = 130.00279276170835 g Carbs = 507.47609399902126 g Fats = 362.364999303189 g\n",
      "YOGURT RICE, REINVENTED THE KETO WAY! Protein = 21.227559999999997 g Carbs = 34.77966 g Fats = 27.736790000000003 g\n",
      "Keto Chicken Pot Pie Casserole Recipe Protein = 183.06637213462503 g Carbs = 66.94974243241005 g Fats = 330.42507908 g\n",
      "Chocolate Mousse (Paleo! Keto!) Protein = 20.232920000000004 g Carbs = 126.01262500000003 g Fats = 153.36332000000004 g\n",
      "Low-Carb Cloud Bread Protein = 21.41955 g Carbs = 4.95003 g Fats = 29.1594 g\n",
      "Cheesy Chaffle Sandwiches with Avocado & Bacon Protein = 118.399855 g Carbs = 41.697175 g Fats = 171.12136999999998 g\n",
      "SF/GF Orange & Clove Olive Oil Cake (Low-Carb/Keto Friendly) Protein = 74.1042774999809 g Carbs = 68.94642249993129 g Fats = 411.4706499999827 g\n",
      "Zucchini Noodles with Spicy Meatballs Recipe Protein = 57.79111424624999 g Carbs = 39.10083875 g Fats = 86.52511180075001 g\n",
      "Cauliflower Rice Recipe Protein = 21.067874999999642 g Carbs = 60.61287499999938 g Fats = 42.283689999999915 g\n",
      "Pesto Shrimp Skewers Protein = 17.977390273381324 g Carbs = 12.655856328119942 g Fats = 19.424986835894774 g\n"
     ]
    },
    {
     "name": "stdout",
     "output_type": "stream",
     "text": [
      "Keto Fat Bombs Protein = 49.188813770500005 g Carbs = 79.77950472949999 g Fats = 264.402713744 g\n",
      "Keto Egg Bites Recipe Protein = 92.86166374999999 g Carbs = 16.18961875 g Fats = 86.5060175 g\n",
      "Keto Key Lime Mousse Protein = 27.492599999999996 g Carbs = 23.581853333439 g Fats = 177.43161333448512 g\n",
      "Keto Peanut Butter Squares Protein = 130.00279276170835 g Carbs = 507.47609399902126 g Fats = 362.364999303189 g\n",
      "YOGURT RICE, REINVENTED THE KETO WAY! Protein = 21.227559999999997 g Carbs = 34.77966 g Fats = 27.736790000000003 g\n",
      "Keto Chicken Pot Pie Casserole Recipe Protein = 183.06637213462503 g Carbs = 66.94974243241005 g Fats = 330.42507908 g\n",
      "Chocolate Mousse (Paleo! Keto!) Protein = 20.232920000000004 g Carbs = 126.01262500000003 g Fats = 153.36332000000004 g\n",
      "Low-Carb Cloud Bread Protein = 21.41955 g Carbs = 4.95003 g Fats = 29.1594 g\n",
      "Cheesy Chaffle Sandwiches with Avocado & Bacon Protein = 118.399855 g Carbs = 41.697175 g Fats = 171.12136999999998 g\n",
      "SF/GF Orange & Clove Olive Oil Cake (Low-Carb/Keto Friendly) Protein = 74.1042774999809 g Carbs = 68.94642249993129 g Fats = 411.4706499999827 g\n",
      "Zucchini Noodles with Spicy Meatballs Recipe Protein = 57.79111424624999 g Carbs = 39.10083875 g Fats = 86.52511180075001 g\n",
      "Cauliflower Rice Recipe Protein = 21.067874999999642 g Carbs = 60.61287499999938 g Fats = 42.283689999999915 g\n",
      "Pesto Shrimp Skewers Protein = 17.977390273381324 g Carbs = 12.655856328119942 g Fats = 19.424986835894774 g\n",
      "Keto Fat Bombs Protein = 49.188813770500005 g Carbs = 79.77950472949999 g Fats = 264.402713744 g\n",
      "Keto Egg Bites Recipe Protein = 92.86166374999999 g Carbs = 16.18961875 g Fats = 86.5060175 g\n",
      "Keto Key Lime Mousse Protein = 27.492599999999996 g Carbs = 23.581853333439 g Fats = 177.43161333448512 g\n",
      "Keto Peanut Butter Squares Protein = 130.00279276170835 g Carbs = 507.47609399902126 g Fats = 362.364999303189 g\n",
      "YOGURT RICE, REINVENTED THE KETO WAY! Protein = 21.227559999999997 g Carbs = 34.77966 g Fats = 27.736790000000003 g\n",
      "Keto Chicken Pot Pie Casserole Recipe Protein = 183.06637213462503 g Carbs = 66.94974243241005 g Fats = 330.42507908 g\n",
      "Chocolate Mousse (Paleo! Keto!) Protein = 20.232920000000004 g Carbs = 126.01262500000003 g Fats = 153.36332000000004 g\n",
      "Low-Carb Cloud Bread Protein = 21.41955 g Carbs = 4.95003 g Fats = 29.1594 g\n",
      "Cheesy Chaffle Sandwiches with Avocado & Bacon Protein = 118.399855 g Carbs = 41.697175 g Fats = 171.12136999999998 g\n",
      "SF/GF Orange & Clove Olive Oil Cake (Low-Carb/Keto Friendly) Protein = 74.1042774999809 g Carbs = 68.94642249993129 g Fats = 411.4706499999827 g\n",
      "Zucchini Noodles with Spicy Meatballs Recipe Protein = 57.79111424624999 g Carbs = 39.10083875 g Fats = 86.52511180075001 g\n",
      "Cauliflower Rice Recipe Protein = 21.067874999999642 g Carbs = 60.61287499999938 g Fats = 42.283689999999915 g\n",
      "Pesto Shrimp Skewers Protein = 17.977390273381324 g Carbs = 12.655856328119942 g Fats = 19.424986835894774 g\n"
     ]
    }
   ],
   "source": [
    "f = open('json_output.json','r',encoding='utf-8')\n",
    "content = f.readlines()\n",
    "\n",
    "for c in content:\n",
    "    #c = content[0]\n",
    "\n",
    "    c_json = json.loads(c)\n",
    "\n",
    "    recipes = c_json['hits']\n",
    "\n",
    "    for recipe in recipes:\n",
    "        if (recipe[\"recipe\"][\"mealType\"][0]== 'lunch/dinner'):\n",
    "            print((recipe['recipe']['label']),\n",
    "                \"Protein =\", recipe['recipe'][\"totalNutrients\"]['PROCNT']['quantity'], \"g\",\n",
    "                \"Carbs =\", recipe['recipe'][\"totalNutrients\"]['CHOCDF']['quantity'], \"g\",\n",
    "                \"Fats =\", recipe['recipe'][\"totalNutrients\"]['FAT']['quantity'], \"g\")"
   ]
  },
  {
   "cell_type": "markdown",
   "id": "8150a8a4",
   "metadata": {},
   "source": [
    "Print first result"
   ]
  },
  {
   "cell_type": "code",
   "execution_count": 20,
   "id": "202452b9",
   "metadata": {},
   "outputs": [
    {
     "name": "stdout",
     "output_type": "stream",
     "text": [
      "Keto Fat Bombs\n"
     ]
    }
   ],
   "source": [
    "paged = recipe_request['_links']['next']\n",
    "recipe_name = (recipe_request['hits'][0]['recipe']['label'])\n",
    "print (recipe_name)"
   ]
  },
  {
   "cell_type": "code",
   "execution_count": 60,
   "id": "18fb2370",
   "metadata": {},
   "outputs": [],
   "source": [
    "def get_pages(response):\n",
    "    return response['_links']['next']"
   ]
  },
  {
   "cell_type": "code",
   "execution_count": 61,
   "id": "8bfe74d5",
   "metadata": {},
   "outputs": [
    {
     "name": "stdout",
     "output_type": "stream",
     "text": [
      "{'href': 'https://api.edamam.com/api/recipes/v2?q=keto&app_key=ba71133c01e0c6f8f1f1ea2164505950&_cont=CHcVQBtNNQphDmgVQ3tAEX4BZ1dtBAAARWZFBGYRYl10AREbUWESUWIXZgN6VwRSFjFCCzASZlR1BAEDFmVDVjQQY1ImFm4bUTMCXD8BaVdzGBFEEjMVcDNPPBcqUUBlEjsXVnAZKBg-&from=1&to=2323&type=public&app_id=b741d1eb', 'title': 'Next page'}\n"
     ]
    }
   ],
   "source": [
    "print(get_pages(recipe_request))"
   ]
  },
  {
   "cell_type": "code",
   "execution_count": 62,
   "id": "ecf694c2",
   "metadata": {},
   "outputs": [],
   "source": [
    "def parse_json(response):\n",
    "    recipe_name = (recipe_request['hits'][0]['recipe']['label'])"
   ]
  },
  {
   "cell_type": "markdown",
   "id": "e7b10103",
   "metadata": {},
   "source": [
    "# Table:"
   ]
  },
  {
   "cell_type": "code",
   "execution_count": 85,
   "id": "783b4f30",
   "metadata": {},
   "outputs": [
    {
     "name": "stdout",
     "output_type": "stream",
     "text": [
      "                                             Recipe_name Protein    Carbs  \\\n",
      "0      Fresh Chimichurri Sauce (Keto & Whole30 Diet F...  8.58 g  46.47 g   \n",
      "1      Fresh Chimichurri Sauce (Keto & Whole30 Diet F...  8.58 g  46.47 g   \n",
      "2      Fresh Chimichurri Sauce (Keto & Whole30 Diet F...  8.58 g  46.47 g   \n",
      "3      Fresh Chimichurri Sauce (Keto & Whole30 Diet F...  8.58 g  46.47 g   \n",
      "4      Fresh Chimichurri Sauce (Keto & Whole30 Diet F...  8.58 g  46.47 g   \n",
      "...                                                  ...     ...      ...   \n",
      "14996  Fresh Chimichurri Sauce (Keto & Whole30 Diet F...  8.58 g  46.47 g   \n",
      "14997  Fresh Chimichurri Sauce (Keto & Whole30 Diet F...  8.58 g  46.47 g   \n",
      "14998  Fresh Chimichurri Sauce (Keto & Whole30 Diet F...  8.58 g  46.47 g   \n",
      "14999  Fresh Chimichurri Sauce (Keto & Whole30 Diet F...  8.58 g  46.47 g   \n",
      "15000  Fresh Chimichurri Sauce (Keto & Whole30 Diet F...  8.58 g  46.47 g   \n",
      "\n",
      "            Fat  \n",
      "0      109.37 g  \n",
      "1      109.37 g  \n",
      "2      109.37 g  \n",
      "3      109.37 g  \n",
      "4      109.37 g  \n",
      "...         ...  \n",
      "14996  109.37 g  \n",
      "14997  109.37 g  \n",
      "14998  109.37 g  \n",
      "14999  109.37 g  \n",
      "15000  109.37 g  \n",
      "\n",
      "[15001 rows x 4 columns]\n"
     ]
    }
   ],
   "source": [
    "## Create table\n",
    "\n",
    "with open('/Users/indi/Documents/Master/Blok 1/ODCM diets/recipe-nutritions/list1', 'rb') as f:\n",
    "    x = pickle.load(f)\n",
    "    \n",
    "print(x)\n",
    "    \n",
    "    "
   ]
  }
 ],
 "metadata": {
  "kernelspec": {
   "display_name": "Python 3 (ipykernel)",
   "language": "python",
   "name": "python3"
  },
  "language_info": {
   "codemirror_mode": {
    "name": "ipython",
    "version": 3
   },
   "file_extension": ".py",
   "mimetype": "text/x-python",
   "name": "python",
   "nbconvert_exporter": "python",
   "pygments_lexer": "ipython3",
   "version": "3.9.12"
  }
 },
 "nbformat": 4,
 "nbformat_minor": 5
}
