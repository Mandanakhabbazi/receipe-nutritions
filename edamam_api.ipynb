{
 "cells": [
  {
   "cell_type": "markdown",
   "id": "d918f3be",
   "metadata": {},
   "source": [
    "# Import packages"
   ]
  },
  {
   "cell_type": "code",
   "execution_count": 16,
   "id": "ff233eaa",
   "metadata": {},
   "outputs": [],
   "source": [
    "import requests\n",
    "import json\n",
    "import selenium\n",
    "from selenium import webdriver"
   ]
  },
  {
   "cell_type": "markdown",
   "id": "48a6449e",
   "metadata": {},
   "source": [
    "# Get access through API\n",
    "This is a test for keto recipes, for other recipes change \"keto\" to other diet name"
   ]
  },
  {
   "cell_type": "code",
   "execution_count": 63,
   "id": "d59025af",
   "metadata": {
    "scrolled": false
   },
   "outputs": [],
   "source": [
    "url = \"https://api.edamam.com/api/recipes/v2\"\n",
    "\n",
    "headers = {\"app_id\": \"b741d1eb\", \"app_key\": \"ba71133c01e0c6f8f1f1ea2164505950\"}\n",
    "\n",
    "querystring = {\"type\": \"public\", \"q\":\"keto\", \"app_id\": \"b741d1eb\", \"app_key\": \"ba71133c01e0c6f8f1f1ea2164505950\", \"from\": \"1\", \"to\": \"2323\"}\n",
    "\n",
    "response = requests.get(url, headers={\"Authorization\": \"ba71133c01e0c6f8f1f1ea2164505950\"}, params=querystring)"
   ]
  },
  {
   "cell_type": "code",
   "execution_count": 64,
   "id": "523d6b4a",
   "metadata": {},
   "outputs": [],
   "source": [
    "recipe_request = response.json()"
   ]
  },
  {
   "cell_type": "markdown",
   "id": "3f20ded1",
   "metadata": {},
   "source": [
    "# Extract fats from all recipes"
   ]
  },
  {
   "cell_type": "code",
   "execution_count": 62,
   "id": "368f5e23",
   "metadata": {},
   "outputs": [
    {
     "data": {
      "text/plain": [
       "['Keto Fat Bombs',\n",
       " 'Keto Egg Bites Recipe',\n",
       " 'Keto Key Lime Mousse',\n",
       " 'Keto Cookie Dough Bars',\n",
       " 'Keto Peanut Butter Squares',\n",
       " 'YOGURT RICE, REINVENTED THE KETO WAY!',\n",
       " 'Keto Chocolate Smoothie recipes',\n",
       " 'Keto Chicken Pot Pie Casserole Recipe',\n",
       " 'Chocolate Mousse (Paleo! Keto!)',\n",
       " 'Low-Carb Cloud Bread',\n",
       " 'Fresh Chimichurri Sauce (Keto & Whole30 Diet Friendly)',\n",
       " 'Keto Blueberry Lemon Bread recipes',\n",
       " 'Cookie Dough Keto Fat Bombs',\n",
       " 'Cheesy Chaffle Sandwiches with Avocado & Bacon',\n",
       " 'SF/GF Orange & Clove Olive Oil Cake (Low-Carb/Keto Friendly)',\n",
       " 'Keto Peanut Butter Cookies',\n",
       " 'Zucchini Noodles with Spicy Meatballs Recipe',\n",
       " 'Cauliflower Rice Recipe',\n",
       " 'Keto Avocado Pops',\n",
       " 'Pesto Shrimp Skewers']"
      ]
     },
     "execution_count": 62,
     "metadata": {},
     "output_type": "execute_result"
    }
   ],
   "source": [
    "all_recipes=[]\n",
    "for recipe in recipe_request['hits']:\n",
    "    all_recipes.append(recipe[\"recipe\"][\"label\"])\n",
    "    #print(recipe['recipe'])                     \n",
    "all_recipes"
   ]
  },
  {
   "cell_type": "code",
   "execution_count": 54,
   "id": "5ead0194",
   "metadata": {},
   "outputs": [
    {
     "name": "stdout",
     "output_type": "stream",
     "text": [
      "Fats = 264.402713744\n",
      "Fats = 86.5060175\n",
      "Fats = 177.43161333448512\n",
      "Fats = 667.9028200000001\n",
      "Fats = 362.364999303189\n",
      "Fats = 27.736790000000003\n",
      "Fats = 108.56249999999999\n",
      "Fats = 330.42507908\n",
      "Fats = 153.36332000000004\n",
      "Fats = 29.1594\n",
      "Fats = 109.37448\n",
      "Fats = 199.36843236547082\n",
      "Fats = 255.77702\n",
      "Fats = 171.12136999999998\n",
      "Fats = 411.4706499999827\n",
      "Fats = 383.93572000000006\n",
      "Fats = 86.52511180075001\n",
      "Fats = 42.283689999999915\n",
      "Fats = 190.17967959999362\n",
      "Fats = 19.424986835894774\n"
     ]
    },
    {
     "data": {
      "text/plain": [
       "[264.402713744,\n",
       " 86.5060175,\n",
       " 177.43161333448512,\n",
       " 667.9028200000001,\n",
       " 362.364999303189,\n",
       " 27.736790000000003,\n",
       " 108.56249999999999,\n",
       " 330.42507908,\n",
       " 153.36332000000004,\n",
       " 29.1594,\n",
       " 109.37448,\n",
       " 199.36843236547082,\n",
       " 255.77702,\n",
       " 171.12136999999998,\n",
       " 411.4706499999827,\n",
       " 383.93572000000006,\n",
       " 86.52511180075001,\n",
       " 42.283689999999915,\n",
       " 190.17967959999362,\n",
       " 19.424986835894774]"
      ]
     },
     "execution_count": 54,
     "metadata": {},
     "output_type": "execute_result"
    }
   ],
   "source": [
    "all_recipes=[]\n",
    "for recipe in recipe_request['hits']:\n",
    "    all_recipes.append(recipe[\"recipe\"][\"totalNutrients\"]['FAT']['quantity'])\n",
    "    #print(recipe['recipe'])\n",
    "    print(\"Fats =\", recipe['recipe'][\"totalNutrients\"]['FAT']['quantity'])\n",
    "all_recipes"
   ]
  },
  {
   "cell_type": "code",
   "execution_count": 19,
   "id": "d2e533f2",
   "metadata": {
    "scrolled": false
   },
   "outputs": [],
   "source": [
    "f=open('keto_recipes.json', 'w', encoding='utf-8')\n",
    "f.write(json.dumps(recipe_request))\n",
    "f.close()"
   ]
  },
  {
   "cell_type": "code",
   "execution_count": 20,
   "id": "96217232",
   "metadata": {},
   "outputs": [
    {
     "data": {
      "text/plain": [
       "2323"
      ]
     },
     "execution_count": 20,
     "metadata": {},
     "output_type": "execute_result"
    }
   ],
   "source": [
    "recipe_request['count']"
   ]
  },
  {
   "cell_type": "code",
   "execution_count": 21,
   "id": "94dbc2b0",
   "metadata": {},
   "outputs": [],
   "source": [
    "next_page = recipe_request['_links']['next']['href'] # link for the next 20 results"
   ]
  },
  {
   "cell_type": "code",
   "execution_count": 63,
   "id": "3f6bdaff",
   "metadata": {},
   "outputs": [
    {
     "name": "stdout",
     "output_type": "stream",
     "text": [
      "Keto Fat Bombs = 264.402713744\n",
      "Keto Egg Bites Recipe = 86.5060175\n",
      "Keto Key Lime Mousse = 177.43161333448512\n",
      "Keto Cookie Dough Bars = 667.9028200000001\n",
      "Keto Peanut Butter Squares = 362.364999303189\n",
      "YOGURT RICE, REINVENTED THE KETO WAY! = 27.736790000000003\n",
      "Keto Chocolate Smoothie recipes = 108.56249999999999\n",
      "Keto Chicken Pot Pie Casserole Recipe = 330.42507908\n",
      "Chocolate Mousse (Paleo! Keto!) = 153.36332000000004\n",
      "Low-Carb Cloud Bread = 29.1594\n",
      "Fresh Chimichurri Sauce (Keto & Whole30 Diet Friendly) = 109.37448\n",
      "Keto Blueberry Lemon Bread recipes = 199.36843236547082\n",
      "Cookie Dough Keto Fat Bombs = 255.77702\n",
      "Cheesy Chaffle Sandwiches with Avocado & Bacon = 171.12136999999998\n",
      "SF/GF Orange & Clove Olive Oil Cake (Low-Carb/Keto Friendly) = 411.4706499999827\n",
      "Keto Peanut Butter Cookies = 383.93572000000006\n",
      "Zucchini Noodles with Spicy Meatballs Recipe = 86.52511180075001\n",
      "Cauliflower Rice Recipe = 42.283689999999915\n",
      "Keto Avocado Pops = 190.17967959999362\n",
      "Pesto Shrimp Skewers = 19.424986835894774\n"
     ]
    },
    {
     "data": {
      "text/plain": [
       "['Keto Fat Bombs',\n",
       " 'Keto Egg Bites Recipe',\n",
       " 'Keto Key Lime Mousse',\n",
       " 'Keto Cookie Dough Bars',\n",
       " 'Keto Peanut Butter Squares',\n",
       " 'YOGURT RICE, REINVENTED THE KETO WAY!',\n",
       " 'Keto Chocolate Smoothie recipes',\n",
       " 'Keto Chicken Pot Pie Casserole Recipe',\n",
       " 'Chocolate Mousse (Paleo! Keto!)',\n",
       " 'Low-Carb Cloud Bread',\n",
       " 'Fresh Chimichurri Sauce (Keto & Whole30 Diet Friendly)',\n",
       " 'Keto Blueberry Lemon Bread recipes',\n",
       " 'Cookie Dough Keto Fat Bombs',\n",
       " 'Cheesy Chaffle Sandwiches with Avocado & Bacon',\n",
       " 'SF/GF Orange & Clove Olive Oil Cake (Low-Carb/Keto Friendly)',\n",
       " 'Keto Peanut Butter Cookies',\n",
       " 'Zucchini Noodles with Spicy Meatballs Recipe',\n",
       " 'Cauliflower Rice Recipe',\n",
       " 'Keto Avocado Pops',\n",
       " 'Pesto Shrimp Skewers',\n",
       " 264.402713744,\n",
       " 86.5060175,\n",
       " 177.43161333448512,\n",
       " 667.9028200000001,\n",
       " 362.364999303189,\n",
       " 27.736790000000003,\n",
       " 108.56249999999999,\n",
       " 330.42507908,\n",
       " 153.36332000000004,\n",
       " 29.1594,\n",
       " 109.37448,\n",
       " 199.36843236547082,\n",
       " 255.77702,\n",
       " 171.12136999999998,\n",
       " 411.4706499999827,\n",
       " 383.93572000000006,\n",
       " 86.52511180075001,\n",
       " 42.283689999999915,\n",
       " 190.17967959999362,\n",
       " 19.424986835894774]"
      ]
     },
     "execution_count": 63,
     "metadata": {},
     "output_type": "execute_result"
    }
   ],
   "source": [
    "all_recipes=[]\n",
    "for recipe in recipe_request['hits']:\n",
    "    all_recipes.append(recipe[\"recipe\"][\"label\"])\n",
    "    #print(recipe['recipe'])                     \n",
    "for recipe in recipe_request['hits']:\n",
    "    all_recipes.append(recipe[\"recipe\"][\"totalNutrients\"]['FAT']['quantity'])\n",
    "    #print(recipe['recipe'])\n",
    "    print(recipe[\"recipe\"][\"label\"], \"=\", recipe['recipe'][\"totalNutrients\"]['FAT']['quantity'])\n",
    "all_recipes"
   ]
  },
  {
   "cell_type": "code",
   "execution_count": null,
   "id": "9582d90e",
   "metadata": {},
   "outputs": [],
   "source": []
  },
  {
   "cell_type": "code",
   "execution_count": null,
   "id": "a9c732db",
   "metadata": {},
   "outputs": [],
   "source": []
  }
 ],
 "metadata": {
  "kernelspec": {
   "display_name": "Python 3 (ipykernel)",
   "language": "python",
   "name": "python3"
  },
  "language_info": {
   "codemirror_mode": {
    "name": "ipython",
    "version": 3
   },
   "file_extension": ".py",
   "mimetype": "text/x-python",
   "name": "python",
   "nbconvert_exporter": "python",
   "pygments_lexer": "ipython3",
   "version": "3.9.12"
  }
 },
 "nbformat": 4,
 "nbformat_minor": 5
}
