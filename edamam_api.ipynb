{
 "cells": [
  {
   "cell_type": "markdown",
   "id": "d918f3be",
   "metadata": {},
   "source": [
    "# Import packages"
   ]
  },
  {
   "cell_type": "code",
   "execution_count": 181,
   "id": "ff233eaa",
   "metadata": {},
   "outputs": [],
   "source": [
    "import requests\n",
    "import json\n",
    "import selenium\n",
    "from selenium import webdriver"
   ]
  },
  {
   "cell_type": "markdown",
   "id": "48a6449e",
   "metadata": {},
   "source": [
    "# Get access through API\n",
    "This is a test for keto recipes, for other recipes change \"keto\" to other diet name"
   ]
  },
  {
   "cell_type": "code",
   "execution_count": 182,
   "id": "d59025af",
   "metadata": {
    "scrolled": false
   },
   "outputs": [],
   "source": [
    "url = \"https://api.edamam.com/api/recipes/v2\"\n",
    "\n",
    "headers = {\"app_id\": \"b741d1eb\", \"app_key\": \"ba71133c01e0c6f8f1f1ea2164505950\"}\n",
    "\n",
    "querystring = {\"type\": \"public\", \"q\":\"keto\", \"app_id\": \"b741d1eb\", \"app_key\": \"ba71133c01e0c6f8f1f1ea2164505950\", \"from\": \"1\", \"to\": \"2323\"}\n",
    "\n",
    "response = requests.get(url, headers={\"Authorization\": \"ba71133c01e0c6f8f1f1ea2164505950\"}, params=querystring)"
   ]
  },
  {
   "cell_type": "code",
   "execution_count": 183,
   "id": "523d6b4a",
   "metadata": {},
   "outputs": [],
   "source": [
    "recipe_request = response.json()"
   ]
  },
  {
   "cell_type": "markdown",
   "id": "3f20ded1",
   "metadata": {},
   "source": [
    "# Extract fats from all recipes"
   ]
  },
  {
   "cell_type": "code",
   "execution_count": null,
   "id": "84ab0a06",
   "metadata": {},
   "outputs": [],
   "source": [
    "# Diet name"
   ]
  },
  {
   "cell_type": "code",
   "execution_count": 74,
   "id": "368f5e23",
   "metadata": {},
   "outputs": [
    {
     "name": "stdout",
     "output_type": "stream",
     "text": [
      "Recipe = Keto Fat Bombs\n",
      "Recipe = Keto Egg Bites Recipe\n",
      "Recipe = Keto Key Lime Mousse\n",
      "Recipe = Keto Cookie Dough Bars\n",
      "Recipe = Keto Peanut Butter Squares\n",
      "Recipe = YOGURT RICE, REINVENTED THE KETO WAY!\n",
      "Recipe = Keto Chocolate Smoothie recipes\n",
      "Recipe = Keto Chicken Pot Pie Casserole Recipe\n",
      "Recipe = Chocolate Mousse (Paleo! Keto!)\n",
      "Recipe = Low-Carb Cloud Bread\n",
      "Recipe = Fresh Chimichurri Sauce (Keto & Whole30 Diet Friendly)\n",
      "Recipe = Keto Blueberry Lemon Bread recipes\n",
      "Recipe = Cookie Dough Keto Fat Bombs\n",
      "Recipe = Cheesy Chaffle Sandwiches with Avocado & Bacon\n",
      "Recipe = SF/GF Orange & Clove Olive Oil Cake (Low-Carb/Keto Friendly)\n",
      "Recipe = Keto Peanut Butter Cookies\n",
      "Recipe = Zucchini Noodles with Spicy Meatballs Recipe\n",
      "Recipe = Cauliflower Rice Recipe\n",
      "Recipe = Keto Avocado Pops\n",
      "Recipe = Pesto Shrimp Skewers\n"
     ]
    }
   ],
   "source": [
    "all_recipes=[]\n",
    "for recipe in recipe_request['hits']:\n",
    "    all_recipes.append(recipe[\"recipe\"][\"label\"])\n",
    "    print(\"Recipe =\", recipe[\"recipe\"][\"label\"])\n",
    "    #print(recipe['recipe'])                     "
   ]
  },
  {
   "cell_type": "markdown",
   "id": "8f8577d0",
   "metadata": {},
   "source": [
    "#fats for-loop"
   ]
  },
  {
   "cell_type": "code",
   "execution_count": 156,
   "id": "5ead0194",
   "metadata": {},
   "outputs": [
    {
     "name": "stdout",
     "output_type": "stream",
     "text": [
      "Fats = 264.402713744 g\n",
      "Fats = 86.5060175 g\n",
      "Fats = 177.43161333448512 g\n",
      "Fats = 667.9028200000001 g\n",
      "Fats = 362.364999303189 g\n",
      "Fats = 27.736790000000003 g\n",
      "Fats = 108.56249999999999 g\n",
      "Fats = 330.42507908 g\n",
      "Fats = 153.36332000000004 g\n",
      "Fats = 29.1594 g\n",
      "Fats = 109.37448 g\n",
      "Fats = 199.36843236547082 g\n",
      "Fats = 255.77702 g\n",
      "Fats = 171.12136999999998 g\n",
      "Fats = 411.4706499999827 g\n",
      "Fats = 383.93572000000006 g\n",
      "Fats = 86.52511180075001 g\n",
      "Fats = 42.283689999999915 g\n",
      "Fats = 190.17967959999362 g\n",
      "Fats = 19.424986835894774 g\n"
     ]
    }
   ],
   "source": [
    "for recipe in recipe_request['hits']:\n",
    "    all_recipes.append(recipe[\"recipe\"][\"totalNutrients\"]['FAT']['quantity'])\n",
    "    #print(recipe['recipe'])\n",
    "    print(\"Fats =\", recipe['recipe'][\"totalNutrients\"]['FAT']['quantity'], \"g\")"
   ]
  },
  {
   "cell_type": "markdown",
   "id": "65a0369b",
   "metadata": {},
   "source": [
    "#protein for-loop"
   ]
  },
  {
   "cell_type": "code",
   "execution_count": 155,
   "id": "2fedd315",
   "metadata": {},
   "outputs": [
    {
     "name": "stdout",
     "output_type": "stream",
     "text": [
      "Protein = 49.188813770500005 g\n",
      "Protein = 92.86166374999999 g\n",
      "Protein = 27.492599999999996 g\n",
      "Protein = 144.68302 g\n",
      "Protein = 130.00279276170835 g\n",
      "Protein = 21.227559999999997 g\n",
      "Protein = 25.89 g\n",
      "Protein = 183.06637213462503 g\n",
      "Protein = 20.232920000000004 g\n",
      "Protein = 21.41955 g\n",
      "Protein = 8.583779999999999 g\n",
      "Protein = 138.67497953697082 g\n",
      "Protein = 60.52752666666668 g\n",
      "Protein = 118.399855 g\n",
      "Protein = 74.1042774999809 g\n",
      "Protein = 132.43112000000002 g\n",
      "Protein = 57.79111424624999 g\n",
      "Protein = 21.067874999999642 g\n",
      "Protein = 23.189253599977718 g\n",
      "Protein = 17.977390273381324 g\n"
     ]
    }
   ],
   "source": [
    "for recipe in recipe_request['hits']:\n",
    "    all_recipes.append(recipe[\"recipe\"][\"totalNutrients\"]['PROCNT']['quantity'])\n",
    "    #print(recipe['recipe'])\n",
    "    print(\"Protein =\", recipe['recipe'][\"totalNutrients\"]['PROCNT']['quantity'], \"g\")"
   ]
  },
  {
   "cell_type": "markdown",
   "id": "2c7388f3",
   "metadata": {},
   "source": [
    "#carbs"
   ]
  },
  {
   "cell_type": "code",
   "execution_count": 81,
   "id": "ea6c5a37",
   "metadata": {},
   "outputs": [
    {
     "name": "stdout",
     "output_type": "stream",
     "text": [
      "Carbs = 79.77950472949999 g\n",
      "Carbs = 16.18961875 g\n",
      "Carbs = 23.581853333439 g\n",
      "Carbs = 416.3967 g\n",
      "Carbs = 507.47609399902126 g\n",
      "Carbs = 34.77966 g\n",
      "Carbs = 49.772833333438996 g\n",
      "Carbs = 66.94974243241005 g\n",
      "Carbs = 126.01262500000003 g\n",
      "Carbs = 4.95003 g\n",
      "Carbs = 46.465125 g\n",
      "Carbs = 105.28362236913169 g\n",
      "Carbs = 138.58341000000001 g\n",
      "Carbs = 41.697175 g\n",
      "Carbs = 68.94642249993129 g\n",
      "Carbs = 354.53182499999997 g\n",
      "Carbs = 39.10083875 g\n",
      "Carbs = 60.61287499999938 g\n",
      "Carbs = 210.85375991903072 g\n",
      "Carbs = 12.655856328119942 g\n"
     ]
    }
   ],
   "source": [
    "all_recipes=[]\n",
    "for recipe in recipe_request['hits']:\n",
    "    all_recipes.append(recipe[\"recipe\"][\"totalNutrients\"]['CHOCDF']['quantity'])\n",
    "    #print(recipe['recipe'])\n",
    "    print(\"Carbs =\", recipe['recipe'][\"totalNutrients\"]['CHOCDF']['quantity'], \"g\")"
   ]
  },
  {
   "cell_type": "markdown",
   "id": "d74a1216",
   "metadata": {},
   "source": [
    "#only keep dinner"
   ]
  },
  {
   "cell_type": "code",
   "execution_count": 189,
   "id": "6913e38b",
   "metadata": {},
   "outputs": [
    {
     "name": "stdout",
     "output_type": "stream",
     "text": [
      "Keto Fat Bombs\n",
      "Keto Egg Bites Recipe\n",
      "Keto Key Lime Mousse\n",
      "Keto Peanut Butter Squares\n",
      "YOGURT RICE, REINVENTED THE KETO WAY!\n",
      "Keto Chicken Pot Pie Casserole Recipe\n",
      "Chocolate Mousse (Paleo! Keto!)\n",
      "Low-Carb Cloud Bread\n",
      "Cheesy Chaffle Sandwiches with Avocado & Bacon\n",
      "SF/GF Orange & Clove Olive Oil Cake (Low-Carb/Keto Friendly)\n",
      "Zucchini Noodles with Spicy Meatballs Recipe\n",
      "Cauliflower Rice Recipe\n",
      "Pesto Shrimp Skewers\n"
     ]
    }
   ],
   "source": [
    "for recipe in recipe_request['hits']:\n",
    "    if (recipe[\"recipe\"][\"mealType\"][0]== 'lunch/dinner'):\n",
    "      print(recipe[\"recipe\"][\"label\"])"
   ]
  },
  {
   "cell_type": "code",
   "execution_count": null,
   "id": "82ba96f5",
   "metadata": {},
   "outputs": [],
   "source": []
  },
  {
   "cell_type": "code",
   "execution_count": 19,
   "id": "d2e533f2",
   "metadata": {
    "scrolled": false
   },
   "outputs": [],
   "source": [
    "f=open('keto_recipes.json', 'w', encoding='utf-8')\n",
    "f.write(json.dumps(recipe_request))\n",
    "f.close()"
   ]
  },
  {
   "cell_type": "code",
   "execution_count": 20,
   "id": "96217232",
   "metadata": {},
   "outputs": [
    {
     "data": {
      "text/plain": [
       "2323"
      ]
     },
     "execution_count": 20,
     "metadata": {},
     "output_type": "execute_result"
    }
   ],
   "source": [
    "recipe_request['count']"
   ]
  },
  {
   "cell_type": "code",
   "execution_count": 21,
   "id": "94dbc2b0",
   "metadata": {},
   "outputs": [],
   "source": [
    "next_page = recipe_request['_links']['next']['href'] # link for the next 20 results"
   ]
  },
  {
   "cell_type": "code",
   "execution_count": 63,
   "id": "3f6bdaff",
   "metadata": {},
   "outputs": [
    {
     "name": "stdout",
     "output_type": "stream",
     "text": [
      "Keto Fat Bombs = 264.402713744\n",
      "Keto Egg Bites Recipe = 86.5060175\n",
      "Keto Key Lime Mousse = 177.43161333448512\n",
      "Keto Cookie Dough Bars = 667.9028200000001\n",
      "Keto Peanut Butter Squares = 362.364999303189\n",
      "YOGURT RICE, REINVENTED THE KETO WAY! = 27.736790000000003\n",
      "Keto Chocolate Smoothie recipes = 108.56249999999999\n",
      "Keto Chicken Pot Pie Casserole Recipe = 330.42507908\n",
      "Chocolate Mousse (Paleo! Keto!) = 153.36332000000004\n",
      "Low-Carb Cloud Bread = 29.1594\n",
      "Fresh Chimichurri Sauce (Keto & Whole30 Diet Friendly) = 109.37448\n",
      "Keto Blueberry Lemon Bread recipes = 199.36843236547082\n",
      "Cookie Dough Keto Fat Bombs = 255.77702\n",
      "Cheesy Chaffle Sandwiches with Avocado & Bacon = 171.12136999999998\n",
      "SF/GF Orange & Clove Olive Oil Cake (Low-Carb/Keto Friendly) = 411.4706499999827\n",
      "Keto Peanut Butter Cookies = 383.93572000000006\n",
      "Zucchini Noodles with Spicy Meatballs Recipe = 86.52511180075001\n",
      "Cauliflower Rice Recipe = 42.283689999999915\n",
      "Keto Avocado Pops = 190.17967959999362\n",
      "Pesto Shrimp Skewers = 19.424986835894774\n"
     ]
    },
    {
     "data": {
      "text/plain": [
       "['Keto Fat Bombs',\n",
       " 'Keto Egg Bites Recipe',\n",
       " 'Keto Key Lime Mousse',\n",
       " 'Keto Cookie Dough Bars',\n",
       " 'Keto Peanut Butter Squares',\n",
       " 'YOGURT RICE, REINVENTED THE KETO WAY!',\n",
       " 'Keto Chocolate Smoothie recipes',\n",
       " 'Keto Chicken Pot Pie Casserole Recipe',\n",
       " 'Chocolate Mousse (Paleo! Keto!)',\n",
       " 'Low-Carb Cloud Bread',\n",
       " 'Fresh Chimichurri Sauce (Keto & Whole30 Diet Friendly)',\n",
       " 'Keto Blueberry Lemon Bread recipes',\n",
       " 'Cookie Dough Keto Fat Bombs',\n",
       " 'Cheesy Chaffle Sandwiches with Avocado & Bacon',\n",
       " 'SF/GF Orange & Clove Olive Oil Cake (Low-Carb/Keto Friendly)',\n",
       " 'Keto Peanut Butter Cookies',\n",
       " 'Zucchini Noodles with Spicy Meatballs Recipe',\n",
       " 'Cauliflower Rice Recipe',\n",
       " 'Keto Avocado Pops',\n",
       " 'Pesto Shrimp Skewers',\n",
       " 264.402713744,\n",
       " 86.5060175,\n",
       " 177.43161333448512,\n",
       " 667.9028200000001,\n",
       " 362.364999303189,\n",
       " 27.736790000000003,\n",
       " 108.56249999999999,\n",
       " 330.42507908,\n",
       " 153.36332000000004,\n",
       " 29.1594,\n",
       " 109.37448,\n",
       " 199.36843236547082,\n",
       " 255.77702,\n",
       " 171.12136999999998,\n",
       " 411.4706499999827,\n",
       " 383.93572000000006,\n",
       " 86.52511180075001,\n",
       " 42.283689999999915,\n",
       " 190.17967959999362,\n",
       " 19.424986835894774]"
      ]
     },
     "execution_count": 63,
     "metadata": {},
     "output_type": "execute_result"
    }
   ],
   "source": [
    "all_recipes=[]\n",
    "for recipe in recipe_request['hits']:\n",
    "    all_recipes.append(recipe[\"recipe\"][\"label\"])\n",
    "    #print(recipe['recipe'])                     \n",
    "for recipe in recipe_request['hits']:\n",
    "    all_recipes.append(recipe[\"recipe\"][\"totalNutrients\"]['FAT']['quantity'])\n",
    "    #print(recipe['recipe'])\n",
    "    print(recipe[\"recipe\"][\"label\"], \"=\", recipe['recipe'][\"totalNutrients\"]['FAT']['quantity'])\n",
    "all_recipes"
   ]
  },
  {
   "cell_type": "code",
   "execution_count": null,
   "id": "9582d90e",
   "metadata": {},
   "outputs": [],
   "source": []
  },
  {
   "cell_type": "code",
   "execution_count": null,
   "id": "a9c732db",
   "metadata": {},
   "outputs": [],
   "source": []
  }
 ],
 "metadata": {
  "kernelspec": {
   "display_name": "Python 3 (ipykernel)",
   "language": "python",
   "name": "python3"
  },
  "language_info": {
   "codemirror_mode": {
    "name": "ipython",
    "version": 3
   },
   "file_extension": ".py",
   "mimetype": "text/x-python",
   "name": "python",
   "nbconvert_exporter": "python",
   "pygments_lexer": "ipython3",
   "version": "3.9.12"
  }
 },
 "nbformat": 4,
 "nbformat_minor": 5
}
