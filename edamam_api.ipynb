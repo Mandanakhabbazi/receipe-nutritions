{
 "cells": [
  {
   "cell_type": "markdown",
   "id": "d918f3be",
   "metadata": {},
   "source": [
    "# Import packages"
   ]
  },
  {
   "cell_type": "code",
   "execution_count": 16,
   "id": "ff233eaa",
   "metadata": {},
   "outputs": [],
   "source": [
    "import requests\n",
    "import json\n",
    "import selenium\n",
    "from selenium import webdriver"
   ]
  },
  {
   "cell_type": "markdown",
   "id": "48a6449e",
   "metadata": {},
   "source": [
    "# Get access through API\n",
    "This is a test for keto recipes, for other recipes change \"keto\" to other diet name"
   ]
  },
  {
   "cell_type": "code",
   "execution_count": 63,
   "id": "d59025af",
   "metadata": {
    "scrolled": false
   },
   "outputs": [],
   "source": [
    "url = \"https://api.edamam.com/api/recipes/v2\"\n",
    "\n",
    "headers = {\"app_id\": \"b741d1eb\", \"app_key\": \"ba71133c01e0c6f8f1f1ea2164505950\"}\n",
    "\n",
    "querystring = {\"type\": \"public\", \"q\":\"keto\", \"app_id\": \"b741d1eb\", \"app_key\": \"ba71133c01e0c6f8f1f1ea2164505950\", \"from\": \"1\", \"to\": \"2323\"}\n",
    "\n",
    "response = requests.get(url, headers={\"Authorization\": \"ba71133c01e0c6f8f1f1ea2164505950\"}, params=querystring)"
   ]
  },
  {
   "cell_type": "code",
   "execution_count": 64,
   "id": "523d6b4a",
   "metadata": {},
   "outputs": [],
   "source": [
    "recipe_request = response.json()"
   ]
  },
  {
   "cell_type": "code",
   "execution_count": 53,
   "id": "5ead0194",
   "metadata": {},
   "outputs": [],
   "source": [
    "all_recipes=[]\n",
    "for recipe in recipe_request['hits']:\n",
    "    all_recipes.append(recipe['recipe'])\n",
    "    #print(recipe['recipe'])\n",
    "all_recipes"
   ]
  },
  {
   "cell_type": "code",
   "execution_count": 19,
   "id": "d2e533f2",
   "metadata": {
    "scrolled": false
   },
   "outputs": [],
   "source": [
    "f=open('keto_recipes.json', 'w', encoding='utf-8')\n",
    "f.write(json.dumps(recipe_request))\n",
    "f.close()"
   ]
  },
  {
   "cell_type": "code",
   "execution_count": 20,
   "id": "96217232",
   "metadata": {},
   "outputs": [
    {
     "data": {
      "text/plain": [
       "2323"
      ]
     },
     "execution_count": 20,
     "metadata": {},
     "output_type": "execute_result"
    }
   ],
   "source": [
    "recipe_request['count']"
   ]
  },
  {
   "cell_type": "code",
   "execution_count": 21,
   "id": "94dbc2b0",
   "metadata": {},
   "outputs": [],
   "source": [
    "next_page = recipe_request['_links']['next']['href'] # link for the next 20 results"
   ]
  },
  {
   "cell_type": "code",
   "execution_count": null,
   "id": "3f6bdaff",
   "metadata": {},
   "outputs": [],
   "source": []
  },
  {
   "cell_type": "code",
   "execution_count": null,
   "id": "9582d90e",
   "metadata": {},
   "outputs": [],
   "source": []
  },
  {
   "cell_type": "code",
   "execution_count": null,
   "id": "a9c732db",
   "metadata": {},
   "outputs": [],
   "source": []
  }
 ],
 "metadata": {
  "kernelspec": {
   "display_name": "Python 3 (ipykernel)",
   "language": "python",
   "name": "python3"
  },
  "language_info": {
   "codemirror_mode": {
    "name": "ipython",
    "version": 3
   },
   "file_extension": ".py",
   "mimetype": "text/x-python",
   "name": "python",
   "nbconvert_exporter": "python",
   "pygments_lexer": "ipython3",
   "version": "3.9.12"
  }
 },
 "nbformat": 4,
 "nbformat_minor": 5
}
