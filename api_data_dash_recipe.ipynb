{
 "cells": [
  {
   "cell_type": "code",
   "execution_count": null,
   "id": "aa96aad0",
   "metadata": {},
   "outputs": [],
   "source": [
    "# import packages\n",
    "import requests\n",
    "import json\n",
    "import pandas as pd\n",
    "import pickle\n",
    "import time\n",
    "import os"
   ]
  },
  {
   "cell_type": "code",
   "execution_count": null,
   "id": "1a7e19be",
   "metadata": {},
   "outputs": [],
   "source": [
    "# Get acces API\n",
    "url = \"https://api.edamam.com/api/recipes/v2\"\n",
    "\n",
    "api_id = os.environ['APP_ID']\n",
    "api_key = os.environ['APP_KEY'] \n",
    "\n",
    "headers = {api_id, api_key}\n",
    "\n",
    "querystring = {\"type\": \"public\", \"q\":\"dash\", \"app_id\": api_id, \"app_key\": api_key}\n",
    "\n",
    "response = requests.get(url, headers={\"Authorization\": api_key}, params=querystring)"
   ]
  },
  {
   "cell_type": "code",
   "execution_count": null,
   "id": "18d97589",
   "metadata": {},
   "outputs": [],
   "source": [
    "json_response = json.loads(response.text.replace('null', '\"None\"').replace('True','\"True\"').replace('False','\"False\"'))"
   ]
  },
  {
   "cell_type": "code",
   "execution_count": null,
   "id": "5038d4c5",
   "metadata": {},
   "outputs": [],
   "source": [
    "recipe_request = json_response"
   ]
  },
  {
   "cell_type": "code",
   "execution_count": null,
   "id": "fd9954d7",
   "metadata": {},
   "outputs": [],
   "source": [
    "still_some_data = True\n",
    "next_url=url"
   ]
  },
  {
   "cell_type": "code",
   "execution_count": null,
   "id": "26e54d17",
   "metadata": {},
   "outputs": [],
   "source": [
    "rec_dic = {}\n",
    "count = 0 \n",
    "df_list = []\n",
    "while still_some_data:\n",
    "    response = requests.get(next_url, headers={\"Authorization\": api_key}, params=querystring)\n",
    "    try: \n",
    "      response.json()\n",
    "    except:\n",
    "      still_some_data = False\n",
    "    try:\n",
    "      recipe_request = response.json()\n",
    "    except:\n",
    "      print('headersize: ', print(len(next_url)))\n",
    "      print(response.text) \n",
    "    time.sleep(6)\n",
    "    \n",
    "    try:\n",
    "        print(f'Getting data for '+str(recipe_request['to']))\n",
    "    except json.decoder.JSONDecodeError:\n",
    "        print(\"There was a problem accessing the equipment data.\")\n",
    "        \n",
    "    if recipe_request['to']==recipe_request['count']:\n",
    "        still_some_data=False\n",
    "    if recipe_request['to']> recipe_request['count']:\n",
    "        still_some_data = False \n",
    "        \n",
    "    next_url = recipe_request['_links']['next']['href']\n",
    "\n",
    "    \n",
    "    for idx, recipe in enumerate(recipe_request['hits']):\n",
    "      count+=1\n",
    "      if (recipe[\"recipe\"][\"mealType\"][0]== 'lunch/dinner'):\n",
    "        # print(recipe[\"recipe\"][\"label\"])\n",
    "        df_list.append([recipe[\"recipe\"][\"label\"], \\\n",
    "            str(round(recipe['recipe'][\"totalNutrients\"]['PROCNT']['quantity'], 2))+\" g\", \\\n",
    "            str(round(recipe['recipe'][\"totalNutrients\"]['CHOCDF']['quantity'], 2))+\" g\",\\\n",
    "            str(round(recipe['recipe'][\"totalNutrients\"]['FAT']['quantity'], 2))+\" g\"])"
   ]
  },
  {
   "cell_type": "code",
   "execution_count": null,
   "id": "c728ac4c",
   "metadata": {},
   "outputs": [],
   "source": [
    "print(df_list)\n",
    "print(len(df_list))\n"
   ]
  },
  {
   "cell_type": "code",
   "execution_count": null,
   "id": "e315dd26",
   "metadata": {},
   "outputs": [],
   "source": [
    "df = pd.DataFrame(df_list, columns = ['Recipe_name', 'Protein', 'Carbs', 'Fat'])\n",
    "\n",
    "print(df)\n",
    "print(len(df['Recipe_name'].unique()))"
   ]
  },
  {
   "cell_type": "code",
   "execution_count": null,
   "id": "a4f7ce6b",
   "metadata": {},
   "outputs": [],
   "source": [
    "# Save into CSV\n",
    "df.to_csv('Dash.csv', index = False)"
   ]
  },
  {
   "cell_type": "code",
   "execution_count": null,
   "id": "dad978ec",
   "metadata": {},
   "outputs": [],
   "source": [
    "# Or read pandas\n",
    "pd.read_csv('Dash.csv')"
   ]
  }
 ],
 "metadata": {
  "kernelspec": {
   "display_name": "Python 3 (ipykernel)",
   "language": "python",
   "name": "python3"
  },
  "language_info": {
   "codemirror_mode": {
    "name": "ipython",
    "version": 3
   },
   "file_extension": ".py",
   "mimetype": "text/x-python",
   "name": "python",
   "nbconvert_exporter": "python",
   "pygments_lexer": "ipython3",
   "version": "3.9.12"
  }
 },
 "nbformat": 4,
 "nbformat_minor": 5
}
