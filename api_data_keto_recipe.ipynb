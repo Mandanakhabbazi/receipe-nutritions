{
 "cells": [
  {
   "cell_type": "code",
   "execution_count": 2,
   "id": "d6d1ff39",
   "metadata": {},
   "outputs": [],
   "source": [
    "# import packages\n",
    "import requests\n",
    "import json\n",
    "import selenium\n",
    "import pandas as pd\n",
    "import pickle\n",
    "import time\n",
    "import os"
   ]
  },
  {
   "cell_type": "code",
   "execution_count": 3,
   "id": "60450413",
   "metadata": {},
   "outputs": [],
   "source": [
    "# Get acces API\n",
    "url = \"https://api.edamam.com/api/recipes/v2\"\n",
    "\n",
    "api_id = os.environ['APP_ID']\n",
    "api_key = os.environ['APP_KEY'] \n",
    "\n",
    "headers = {api_id, api_key}\n",
    "\n",
    "querystring = {\"type\": \"public\", \"q\":\"keto\", \"app_id\": api_id, \"app_key\": api_key}\n",
    "\n",
    "response = requests.get(url, headers={\"Authorization\": api_key}, params=querystring)"
   ]
  },
  {
   "cell_type": "code",
   "execution_count": 4,
   "id": "527cc193",
   "metadata": {},
   "outputs": [],
   "source": [
    "recipe_request = response.json()"
   ]
  },
  {
   "cell_type": "markdown",
   "id": "ac86e1a9",
   "metadata": {},
   "source": [
    "Print first title"
   ]
  },
  {
   "cell_type": "code",
   "execution_count": null,
   "id": "815e956f",
   "metadata": {},
   "outputs": [],
   "source": [
    "paged = recipe_request['_links']['next']\n",
    "recipe_name = (recipe_request['hits'][0]['recipe']['label'])\n",
    "print (recipe_name)"
   ]
  },
  {
   "cell_type": "markdown",
   "id": "a20552b2",
   "metadata": {},
   "source": [
    "Print next link in API"
   ]
  },
  {
   "cell_type": "code",
   "execution_count": 5,
   "id": "e0ff6e24",
   "metadata": {},
   "outputs": [
    {
     "name": "stdout",
     "output_type": "stream",
     "text": [
      "https://api.edamam.com/api/recipes/v2?q=keto&app_key=ba71133c01e0c6f8f1f1ea2164505950&_cont=CHcVQBtNNQphDmgVQ3tAEX4BZ1dtBAAARWZFBGYRYl10AREbUWESUWIXZgN6VwRSFjFCCzASZlR1BAEDFmVDVjQQY1ImFm4bUTMCXD8BaVdzGBFEEjMVcDNPPBcqUUBlEjsXVnAZKBg-&type=public&app_id=b741d1eb\n"
     ]
    }
   ],
   "source": [
    "paged = recipe_request['_links']['next']\n",
    "next_url = (recipe_request['_links']['next']['href'])\n",
    "print (next_url)"
   ]
  },
  {
   "cell_type": "markdown",
   "id": "5309740d",
   "metadata": {},
   "source": [
    "Loop through next links"
   ]
  },
  {
   "cell_type": "code",
   "execution_count": 6,
   "id": "6496274c",
   "metadata": {},
   "outputs": [
    {
     "name": "stdout",
     "output_type": "stream",
     "text": [
      "https://api.edamam.com/api/recipes/v2?q=keto&app_key=ba71133c01e0c6f8f1f1ea2164505950&_cont=CHcVQBtNNQphDmgVQ3tAEX4BZ1dtBAAARWZFBGYRYl10AREbUWESUWIXZgN6VwRSFjFCCzASZlR1BAEDFmVDVjQQY1ImFm4bUTMCXD8BaVdzGBFEEjMVcDNPPBcqUUBlEjsXVnAZKBg-&type=public&app_id=b741d1eb\n",
      "https://api.edamam.com/api/recipes/v2?q=keto&app_key=ba71133c01e0c6f8f1f1ea2164505950&_cont=CHcVQBtNNQphDmgVQ3tAEX4BZ1dtBAAARWZFBGYRYl10AREbUWESUWIXZgN6VwRSFjFCCzASZlR1BAEDFmVDVjQQY1ImFm4bUTMCXD8BaVdzGBFEEjMVcDNPPBcqUUBlEjsXVnAZKBg-&type=public&app_id=b741d1eb\n",
      "https://api.edamam.com/api/recipes/v2?q=keto&app_key=ba71133c01e0c6f8f1f1ea2164505950&_cont=CHcVQBtNNQphDmgVQ3tAEX4BZ1dtBAAARWZFBGYRYl10AREbUWESUWIXZgN6VwRSFjFCCzASZlR1BAEDFmVDVjQQY1ImFm4bUTMCXD8BaVdzGBFEEjMVcDNPPBcqUUBlEjsXVnAZKBg-&type=public&app_id=b741d1eb\n",
      "https://api.edamam.com/api/recipes/v2?q=keto&app_key=ba71133c01e0c6f8f1f1ea2164505950&_cont=CHcVQBtNNQphDmgVQ3tAEX4BZ1dtBAAARWZFBGYRYl10AREbUWESUWIXZgN6VwRSFjFCCzASZlR1BAEDFmVDVjQQY1ImFm4bUTMCXD8BaVdzGBFEEjMVcDNPPBcqUUBlEjsXVnAZKBg-&type=public&app_id=b741d1eb\n",
      "https://api.edamam.com/api/recipes/v2?q=keto&app_key=ba71133c01e0c6f8f1f1ea2164505950&_cont=CHcVQBtNNQphDmgVQ3tAEX4BZ1dtBAAARWZFBGYRYl10AREbUWESUWIXZgN6VwRSFjFCCzASZlR1BAEDFmVDVjQQY1ImFm4bUTMCXD8BaVdzGBFEEjMVcDNPPBcqUUBlEjsXVnAZKBg-&type=public&app_id=b741d1eb\n",
      "https://api.edamam.com/api/recipes/v2?q=keto&app_key=ba71133c01e0c6f8f1f1ea2164505950&_cont=CHcVQBtNNQphDmgVQ3tAEX4BZ1dtBAAARWZFBGYRYl10AREbUWESUWIXZgN6VwRSFjFCCzASZlR1BAEDFmVDVjQQY1ImFm4bUTMCXD8BaVdzGBFEEjMVcDNPPBcqUUBlEjsXVnAZKBg-&type=public&app_id=b741d1eb\n",
      "https://api.edamam.com/api/recipes/v2?q=keto&app_key=ba71133c01e0c6f8f1f1ea2164505950&_cont=CHcVQBtNNQphDmgVQ3tAEX4BZ1dtBAAARWZFBGYRYl10AREbUWESUWIXZgN6VwRSFjFCCzASZlR1BAEDFmVDVjQQY1ImFm4bUTMCXD8BaVdzGBFEEjMVcDNPPBcqUUBlEjsXVnAZKBg-&type=public&app_id=b741d1eb\n",
      "https://api.edamam.com/api/recipes/v2?q=keto&app_key=ba71133c01e0c6f8f1f1ea2164505950&_cont=CHcVQBtNNQphDmgVQ3tAEX4BZ1dtBAAARWZFBGYRYl10AREbUWESUWIXZgN6VwRSFjFCCzASZlR1BAEDFmVDVjQQY1ImFm4bUTMCXD8BaVdzGBFEEjMVcDNPPBcqUUBlEjsXVnAZKBg-&type=public&app_id=b741d1eb\n",
      "https://api.edamam.com/api/recipes/v2?q=keto&app_key=ba71133c01e0c6f8f1f1ea2164505950&_cont=CHcVQBtNNQphDmgVQ3tAEX4BZ1dtBAAARWZFBGYRYl10AREbUWESUWIXZgN6VwRSFjFCCzASZlR1BAEDFmVDVjQQY1ImFm4bUTMCXD8BaVdzGBFEEjMVcDNPPBcqUUBlEjsXVnAZKBg-&type=public&app_id=b741d1eb\n",
      "https://api.edamam.com/api/recipes/v2?q=keto&app_key=ba71133c01e0c6f8f1f1ea2164505950&_cont=CHcVQBtNNQphDmgVQ3tAEX4BZ1dtBAAARWZFBGYRYl10AREbUWESUWIXZgN6VwRSFjFCCzASZlR1BAEDFmVDVjQQY1ImFm4bUTMCXD8BaVdzGBFEEjMVcDNPPBcqUUBlEjsXVnAZKBg-&type=public&app_id=b741d1eb\n",
      "https://api.edamam.com/api/recipes/v2?q=keto&app_key=ba71133c01e0c6f8f1f1ea2164505950&_cont=CHcVQBtNNQphDmgVQ3tAEX4BZ1dtBAAARWZFBGYRYl10AREbUWESUWIXZgN6VwRSFjFCCzASZlR1BAEDFmVDVjQQY1ImFm4bUTMCXD8BaVdzGBFEEjMVcDNPPBcqUUBlEjsXVnAZKBg-&type=public&app_id=b741d1eb\n",
      "https://api.edamam.com/api/recipes/v2?q=keto&app_key=ba71133c01e0c6f8f1f1ea2164505950&_cont=CHcVQBtNNQphDmgVQ3tAEX4BZ1dtBAAARWZFBGYRYl10AREbUWESUWIXZgN6VwRSFjFCCzASZlR1BAEDFmVDVjQQY1ImFm4bUTMCXD8BaVdzGBFEEjMVcDNPPBcqUUBlEjsXVnAZKBg-&type=public&app_id=b741d1eb\n",
      "https://api.edamam.com/api/recipes/v2?q=keto&app_key=ba71133c01e0c6f8f1f1ea2164505950&_cont=CHcVQBtNNQphDmgVQ3tAEX4BZ1dtBAAARWZFBGYRYl10AREbUWESUWIXZgN6VwRSFjFCCzASZlR1BAEDFmVDVjQQY1ImFm4bUTMCXD8BaVdzGBFEEjMVcDNPPBcqUUBlEjsXVnAZKBg-&type=public&app_id=b741d1eb\n",
      "https://api.edamam.com/api/recipes/v2?q=keto&app_key=ba71133c01e0c6f8f1f1ea2164505950&_cont=CHcVQBtNNQphDmgVQ3tAEX4BZ1dtBAAARWZFBGYRYl10AREbUWESUWIXZgN6VwRSFjFCCzASZlR1BAEDFmVDVjQQY1ImFm4bUTMCXD8BaVdzGBFEEjMVcDNPPBcqUUBlEjsXVnAZKBg-&type=public&app_id=b741d1eb\n",
      "https://api.edamam.com/api/recipes/v2?q=keto&app_key=ba71133c01e0c6f8f1f1ea2164505950&_cont=CHcVQBtNNQphDmgVQ3tAEX4BZ1dtBAAARWZFBGYRYl10AREbUWESUWIXZgN6VwRSFjFCCzASZlR1BAEDFmVDVjQQY1ImFm4bUTMCXD8BaVdzGBFEEjMVcDNPPBcqUUBlEjsXVnAZKBg-&type=public&app_id=b741d1eb\n",
      "https://api.edamam.com/api/recipes/v2?q=keto&app_key=ba71133c01e0c6f8f1f1ea2164505950&_cont=CHcVQBtNNQphDmgVQ3tAEX4BZ1dtBAAARWZFBGYRYl10AREbUWESUWIXZgN6VwRSFjFCCzASZlR1BAEDFmVDVjQQY1ImFm4bUTMCXD8BaVdzGBFEEjMVcDNPPBcqUUBlEjsXVnAZKBg-&type=public&app_id=b741d1eb\n",
      "https://api.edamam.com/api/recipes/v2?q=keto&app_key=ba71133c01e0c6f8f1f1ea2164505950&_cont=CHcVQBtNNQphDmgVQ3tAEX4BZ1dtBAAARWZFBGYRYl10AREbUWESUWIXZgN6VwRSFjFCCzASZlR1BAEDFmVDVjQQY1ImFm4bUTMCXD8BaVdzGBFEEjMVcDNPPBcqUUBlEjsXVnAZKBg-&type=public&app_id=b741d1eb\n",
      "https://api.edamam.com/api/recipes/v2?q=keto&app_key=ba71133c01e0c6f8f1f1ea2164505950&_cont=CHcVQBtNNQphDmgVQ3tAEX4BZ1dtBAAARWZFBGYRYl10AREbUWESUWIXZgN6VwRSFjFCCzASZlR1BAEDFmVDVjQQY1ImFm4bUTMCXD8BaVdzGBFEEjMVcDNPPBcqUUBlEjsXVnAZKBg-&type=public&app_id=b741d1eb\n",
      "https://api.edamam.com/api/recipes/v2?q=keto&app_key=ba71133c01e0c6f8f1f1ea2164505950&_cont=CHcVQBtNNQphDmgVQ3tAEX4BZ1dtBAAARWZFBGYRYl10AREbUWESUWIXZgN6VwRSFjFCCzASZlR1BAEDFmVDVjQQY1ImFm4bUTMCXD8BaVdzGBFEEjMVcDNPPBcqUUBlEjsXVnAZKBg-&type=public&app_id=b741d1eb\n",
      "https://api.edamam.com/api/recipes/v2?q=keto&app_key=ba71133c01e0c6f8f1f1ea2164505950&_cont=CHcVQBtNNQphDmgVQ3tAEX4BZ1dtBAAARWZFBGYRYl10AREbUWESUWIXZgN6VwRSFjFCCzASZlR1BAEDFmVDVjQQY1ImFm4bUTMCXD8BaVdzGBFEEjMVcDNPPBcqUUBlEjsXVnAZKBg-&type=public&app_id=b741d1eb\n",
      "https://api.edamam.com/api/recipes/v2?q=keto&app_key=ba71133c01e0c6f8f1f1ea2164505950&_cont=CHcVQBtNNQphDmgVQ3tAEX4BZ1dtBAAARWZFBGYRYl10AREbUWESUWIXZgN6VwRSFjFCCzASZlR1BAEDFmVDVjQQY1ImFm4bUTMCXD8BaVdzGBFEEjMVcDNPPBcqUUBlEjsXVnAZKBg-&type=public&app_id=b741d1eb\n",
      "https://api.edamam.com/api/recipes/v2?q=keto&app_key=ba71133c01e0c6f8f1f1ea2164505950&_cont=CHcVQBtNNQphDmgVQ3tAEX4BZ1dtBAAARWZFBGYRYl10AREbUWESUWIXZgN6VwRSFjFCCzASZlR1BAEDFmVDVjQQY1ImFm4bUTMCXD8BaVdzGBFEEjMVcDNPPBcqUUBlEjsXVnAZKBg-&type=public&app_id=b741d1eb\n",
      "https://api.edamam.com/api/recipes/v2?q=keto&app_key=ba71133c01e0c6f8f1f1ea2164505950&_cont=CHcVQBtNNQphDmgVQ3tAEX4BZ1dtBAAARWZFBGYRYl10AREbUWESUWIXZgN6VwRSFjFCCzASZlR1BAEDFmVDVjQQY1ImFm4bUTMCXD8BaVdzGBFEEjMVcDNPPBcqUUBlEjsXVnAZKBg-&type=public&app_id=b741d1eb\n",
      "https://api.edamam.com/api/recipes/v2?q=keto&app_key=ba71133c01e0c6f8f1f1ea2164505950&_cont=CHcVQBtNNQphDmgVQ3tAEX4BZ1dtBAAARWZFBGYRYl10AREbUWESUWIXZgN6VwRSFjFCCzASZlR1BAEDFmVDVjQQY1ImFm4bUTMCXD8BaVdzGBFEEjMVcDNPPBcqUUBlEjsXVnAZKBg-&type=public&app_id=b741d1eb\n",
      "https://api.edamam.com/api/recipes/v2?q=keto&app_key=ba71133c01e0c6f8f1f1ea2164505950&_cont=CHcVQBtNNQphDmgVQ3tAEX4BZ1dtBAAARWZFBGYRYl10AREbUWESUWIXZgN6VwRSFjFCCzASZlR1BAEDFmVDVjQQY1ImFm4bUTMCXD8BaVdzGBFEEjMVcDNPPBcqUUBlEjsXVnAZKBg-&type=public&app_id=b741d1eb\n",
      "https://api.edamam.com/api/recipes/v2?q=keto&app_key=ba71133c01e0c6f8f1f1ea2164505950&_cont=CHcVQBtNNQphDmgVQ3tAEX4BZ1dtBAAARWZFBGYRYl10AREbUWESUWIXZgN6VwRSFjFCCzASZlR1BAEDFmVDVjQQY1ImFm4bUTMCXD8BaVdzGBFEEjMVcDNPPBcqUUBlEjsXVnAZKBg-&type=public&app_id=b741d1eb\n",
      "https://api.edamam.com/api/recipes/v2?q=keto&app_key=ba71133c01e0c6f8f1f1ea2164505950&_cont=CHcVQBtNNQphDmgVQ3tAEX4BZ1dtBAAARWZFBGYRYl10AREbUWESUWIXZgN6VwRSFjFCCzASZlR1BAEDFmVDVjQQY1ImFm4bUTMCXD8BaVdzGBFEEjMVcDNPPBcqUUBlEjsXVnAZKBg-&type=public&app_id=b741d1eb\n",
      "https://api.edamam.com/api/recipes/v2?q=keto&app_key=ba71133c01e0c6f8f1f1ea2164505950&_cont=CHcVQBtNNQphDmgVQ3tAEX4BZ1dtBAAARWZFBGYRYl10AREbUWESUWIXZgN6VwRSFjFCCzASZlR1BAEDFmVDVjQQY1ImFm4bUTMCXD8BaVdzGBFEEjMVcDNPPBcqUUBlEjsXVnAZKBg-&type=public&app_id=b741d1eb\n",
      "https://api.edamam.com/api/recipes/v2?q=keto&app_key=ba71133c01e0c6f8f1f1ea2164505950&_cont=CHcVQBtNNQphDmgVQ3tAEX4BZ1dtBAAARWZFBGYRYl10AREbUWESUWIXZgN6VwRSFjFCCzASZlR1BAEDFmVDVjQQY1ImFm4bUTMCXD8BaVdzGBFEEjMVcDNPPBcqUUBlEjsXVnAZKBg-&type=public&app_id=b741d1eb\n",
      "https://api.edamam.com/api/recipes/v2?q=keto&app_key=ba71133c01e0c6f8f1f1ea2164505950&_cont=CHcVQBtNNQphDmgVQ3tAEX4BZ1dtBAAARWZFBGYRYl10AREbUWESUWIXZgN6VwRSFjFCCzASZlR1BAEDFmVDVjQQY1ImFm4bUTMCXD8BaVdzGBFEEjMVcDNPPBcqUUBlEjsXVnAZKBg-&type=public&app_id=b741d1eb\n",
      "https://api.edamam.com/api/recipes/v2?q=keto&app_key=ba71133c01e0c6f8f1f1ea2164505950&_cont=CHcVQBtNNQphDmgVQ3tAEX4BZ1dtBAAARWZFBGYRYl10AREbUWESUWIXZgN6VwRSFjFCCzASZlR1BAEDFmVDVjQQY1ImFm4bUTMCXD8BaVdzGBFEEjMVcDNPPBcqUUBlEjsXVnAZKBg-&type=public&app_id=b741d1eb\n",
      "https://api.edamam.com/api/recipes/v2?q=keto&app_key=ba71133c01e0c6f8f1f1ea2164505950&_cont=CHcVQBtNNQphDmgVQ3tAEX4BZ1dtBAAARWZFBGYRYl10AREbUWESUWIXZgN6VwRSFjFCCzASZlR1BAEDFmVDVjQQY1ImFm4bUTMCXD8BaVdzGBFEEjMVcDNPPBcqUUBlEjsXVnAZKBg-&type=public&app_id=b741d1eb\n",
      "https://api.edamam.com/api/recipes/v2?q=keto&app_key=ba71133c01e0c6f8f1f1ea2164505950&_cont=CHcVQBtNNQphDmgVQ3tAEX4BZ1dtBAAARWZFBGYRYl10AREbUWESUWIXZgN6VwRSFjFCCzASZlR1BAEDFmVDVjQQY1ImFm4bUTMCXD8BaVdzGBFEEjMVcDNPPBcqUUBlEjsXVnAZKBg-&type=public&app_id=b741d1eb\n",
      "https://api.edamam.com/api/recipes/v2?q=keto&app_key=ba71133c01e0c6f8f1f1ea2164505950&_cont=CHcVQBtNNQphDmgVQ3tAEX4BZ1dtBAAARWZFBGYRYl10AREbUWESUWIXZgN6VwRSFjFCCzASZlR1BAEDFmVDVjQQY1ImFm4bUTMCXD8BaVdzGBFEEjMVcDNPPBcqUUBlEjsXVnAZKBg-&type=public&app_id=b741d1eb\n",
      "https://api.edamam.com/api/recipes/v2?q=keto&app_key=ba71133c01e0c6f8f1f1ea2164505950&_cont=CHcVQBtNNQphDmgVQ3tAEX4BZ1dtBAAARWZFBGYRYl10AREbUWESUWIXZgN6VwRSFjFCCzASZlR1BAEDFmVDVjQQY1ImFm4bUTMCXD8BaVdzGBFEEjMVcDNPPBcqUUBlEjsXVnAZKBg-&type=public&app_id=b741d1eb\n",
      "https://api.edamam.com/api/recipes/v2?q=keto&app_key=ba71133c01e0c6f8f1f1ea2164505950&_cont=CHcVQBtNNQphDmgVQ3tAEX4BZ1dtBAAARWZFBGYRYl10AREbUWESUWIXZgN6VwRSFjFCCzASZlR1BAEDFmVDVjQQY1ImFm4bUTMCXD8BaVdzGBFEEjMVcDNPPBcqUUBlEjsXVnAZKBg-&type=public&app_id=b741d1eb\n",
      "https://api.edamam.com/api/recipes/v2?q=keto&app_key=ba71133c01e0c6f8f1f1ea2164505950&_cont=CHcVQBtNNQphDmgVQ3tAEX4BZ1dtBAAARWZFBGYRYl10AREbUWESUWIXZgN6VwRSFjFCCzASZlR1BAEDFmVDVjQQY1ImFm4bUTMCXD8BaVdzGBFEEjMVcDNPPBcqUUBlEjsXVnAZKBg-&type=public&app_id=b741d1eb\n"
     ]
    }
   ],
   "source": [
    "next_url=url\n",
    "for next in next_url:\n",
    "    print (recipe_request['_links']['next']['href'])"
   ]
  },
  {
   "cell_type": "markdown",
   "id": "7dd32394",
   "metadata": {},
   "source": [
    "Print all data from API and save in Json"
   ]
  },
  {
   "cell_type": "code",
   "execution_count": null,
   "id": "086c3638",
   "metadata": {},
   "outputs": [],
   "source": [
    "while still_some_data:\n",
    "    #print(f'Getting information for {next_url}')\n",
    "    response = requests.get(next_url, headers={\"Authorization\": api_key}, params=querystring)\n",
    "    recipe_request = response.json()\n",
    "    time.sleep(6)\n",
    "    print(f'Getting data for '+str(recipe_request['to']))\n",
    "    if recipe_request['to']==recipe_request['count']:\n",
    "        still_some_data=False\n",
    "    if recipe_request['to']> recipe_request['count']:\n",
    "        still_some_data = False\n",
    "\n",
    "    next_url = recipe_request['_links']['next']['href']\n",
    "    \n",
    "    f = open('json_output.json','a',encoding='utf-8')\n",
    "    f.write(json.dumps(recipe_request))\n",
    "    f.write('\\n')\n",
    "    f.close()"
   ]
  },
  {
   "cell_type": "markdown",
   "id": "400e55fd",
   "metadata": {},
   "source": [
    "Print macronutrients of lunch/dinner recipes"
   ]
  },
  {
   "cell_type": "code",
   "execution_count": null,
   "id": "69f1eae2",
   "metadata": {},
   "outputs": [],
   "source": [
    "f = open('json_output.json','r',encoding='utf-8')\n",
    "content = f.readlines()\n",
    "\n",
    "for c in content:\n",
    "    #c = content[0]\n",
    "\n",
    "    c_json = json.loads(c)\n",
    "\n",
    "    recipes = c_json['hits']\n",
    "\n",
    "    for recipe in recipes:\n",
    "        if (recipe[\"recipe\"][\"mealType\"][0]== 'lunch/dinner'):\n",
    "            print((recipe['recipe']['label']),\n",
    "                \"Protein =\", recipe['recipe'][\"totalNutrients\"]['PROCNT']['quantity'], \"g\",\n",
    "                \"Carbs =\", recipe['recipe'][\"totalNutrients\"]['CHOCDF']['quantity'], \"g\",\n",
    "                \"Fats =\", recipe['recipe'][\"totalNutrients\"]['FAT']['quantity'], \"g\")\n",
    "f.close()     \n",
    "\n",
    "print(content)"
   ]
  },
  {
   "cell_type": "code",
   "execution_count": null,
   "id": "29fa3c39",
   "metadata": {},
   "outputs": [],
   "source": [
    "def get_pages(response):\n",
    "    return response['_links']['next']"
   ]
  },
  {
   "cell_type": "code",
   "execution_count": null,
   "id": "3ab3b2ad",
   "metadata": {},
   "outputs": [],
   "source": [
    "print(get_pages(recipe_request))"
   ]
  },
  {
   "cell_type": "code",
   "execution_count": null,
   "id": "310b0b5b",
   "metadata": {},
   "outputs": [],
   "source": [
    "def parse_json(response):\n",
    "    recipe_name = (recipe_request['hits'][0]['recipe']['label'])"
   ]
  },
  {
   "cell_type": "markdown",
   "id": "fbb1a30b",
   "metadata": {},
   "source": [
    "# Table"
   ]
  },
  {
   "cell_type": "code",
   "execution_count": null,
   "id": "3e26f0c2",
   "metadata": {},
   "outputs": [],
   "source": [
    "## Create table\n",
    "\n",
    "with open('/Users/indi/Documents/Master/Blok 1/ODCM diets/recipe-nutritions/list1', 'rb') as f:\n",
    "    x = pickle.load(f)\n",
    "    \n",
    "print(x)\n",
    "    "
   ]
  },
  {
   "cell_type": "code",
   "execution_count": null,
   "id": "95a79e5c",
   "metadata": {},
   "outputs": [],
   "source": [
    "# open file\n",
    "\n",
    "recipe_data = open(\"keto_recipes.json\", \"r\")\n",
    "print(recipe_data.read())"
   ]
  }
 ],
 "metadata": {
  "kernelspec": {
   "display_name": "Python 3 (ipykernel)",
   "language": "python",
   "name": "python3"
  },
  "language_info": {
   "codemirror_mode": {
    "name": "ipython",
    "version": 3
   },
   "file_extension": ".py",
   "mimetype": "text/x-python",
   "name": "python",
   "nbconvert_exporter": "python",
   "pygments_lexer": "ipython3",
   "version": "3.9.12"
  }
 },
 "nbformat": 4,
 "nbformat_minor": 5
}
