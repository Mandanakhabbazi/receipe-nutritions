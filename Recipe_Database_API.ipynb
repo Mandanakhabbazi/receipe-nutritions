{
 "cells": [
  {
   "cell_type": "code",
   "execution_count": 61,
   "id": "d6d1ff39",
   "metadata": {},
   "outputs": [],
   "source": [
    "# import packages\n",
    "import requests\n",
    "import json\n",
    "import selenium\n",
    "import pandas as pd\n",
    "import pickle\n",
    "import time\n",
    "import os"
   ]
  },
  {
   "cell_type": "code",
   "execution_count": 62,
   "id": "1d7a2a28",
   "metadata": {},
   "outputs": [],
   "source": [
    "# Choose diet\n",
    "diet = 'mediterranean'"
   ]
  },
  {
   "cell_type": "code",
   "execution_count": 63,
   "id": "60450413",
   "metadata": {},
   "outputs": [],
   "source": [
    "# Get acces API\n",
    "url = \"https://api.edamam.com/api/recipes/v2\"\n",
    "\n",
    "api_id = os.environ['APP_ID']\n",
    "api_key = os.environ['APP_KEY'] \n",
    "\n",
    "headers = {api_id, api_key}\n",
    "\n",
    "querystring = {\"type\": \"public\", \"q\": diet, \"app_id\": api_id, \"app_key\": api_key}\n",
    "\n",
    "response = requests.get(url, headers={\"Authorization\": api_key}, params=querystring)"
   ]
  },
  {
   "cell_type": "code",
   "execution_count": 64,
   "id": "527cc193",
   "metadata": {},
   "outputs": [],
   "source": [
    "json_response = json.loads(response.text.replace('null', '\"None\"').replace('True','\"True\"').replace('False','\"False\"'))"
   ]
  },
  {
   "cell_type": "code",
   "execution_count": 65,
   "id": "febded9a",
   "metadata": {},
   "outputs": [],
   "source": [
    "recipe_request = json_response"
   ]
  },
  {
   "cell_type": "code",
   "execution_count": 66,
   "id": "600b7141",
   "metadata": {},
   "outputs": [],
   "source": [
    "still_some_data = True\n",
    "next_url=url"
   ]
  },
  {
   "cell_type": "code",
   "execution_count": 67,
   "id": "086c3638",
   "metadata": {},
   "outputs": [
    {
     "name": "stdout",
     "output_type": "stream",
     "text": [
      "Getting data for 20\n",
      "Getting data for 40\n"
     ]
    },
    {
     "ename": "KeyboardInterrupt",
     "evalue": "",
     "output_type": "error",
     "traceback": [
      "\u001b[0;31m---------------------------------------------------------------------------\u001b[0m",
      "\u001b[0;31mKeyboardInterrupt\u001b[0m                         Traceback (most recent call last)",
      "Input \u001b[0;32mIn [67]\u001b[0m, in \u001b[0;36m<cell line: 4>\u001b[0;34m()\u001b[0m\n\u001b[1;32m     13\u001b[0m   \u001b[38;5;28mprint\u001b[39m(\u001b[38;5;124m'\u001b[39m\u001b[38;5;124mheadersize: \u001b[39m\u001b[38;5;124m'\u001b[39m, \u001b[38;5;28mprint\u001b[39m(\u001b[38;5;28mlen\u001b[39m(next_url)))\n\u001b[1;32m     14\u001b[0m   \u001b[38;5;28mprint\u001b[39m(response\u001b[38;5;241m.\u001b[39mtext) \n\u001b[0;32m---> 15\u001b[0m \u001b[43mtime\u001b[49m\u001b[38;5;241;43m.\u001b[39;49m\u001b[43msleep\u001b[49m\u001b[43m(\u001b[49m\u001b[38;5;241;43m6\u001b[39;49m\u001b[43m)\u001b[49m\n\u001b[1;32m     17\u001b[0m \u001b[38;5;28;01mtry\u001b[39;00m:\n\u001b[1;32m     18\u001b[0m     \u001b[38;5;28mprint\u001b[39m(\u001b[38;5;124mf\u001b[39m\u001b[38;5;124m'\u001b[39m\u001b[38;5;124mGetting data for \u001b[39m\u001b[38;5;124m'\u001b[39m\u001b[38;5;241m+\u001b[39m\u001b[38;5;28mstr\u001b[39m(recipe_request[\u001b[38;5;124m'\u001b[39m\u001b[38;5;124mto\u001b[39m\u001b[38;5;124m'\u001b[39m]))\n",
      "\u001b[0;31mKeyboardInterrupt\u001b[0m: "
     ]
    }
   ],
   "source": [
    "rec_dic = {}\n",
    "count = 0 \n",
    "df_list = []\n",
    "while still_some_data:\n",
    "    response = requests.get(next_url, headers={\"Authorization\": api_key}, params=querystring)\n",
    "    try: \n",
    "      response.json()\n",
    "    except:\n",
    "      still_some_data = False\n",
    "    try:\n",
    "      recipe_request = response.json()\n",
    "    except:\n",
    "      print('headersize: ', print(len(next_url)))\n",
    "      print(response.text) \n",
    "    time.sleep(6)\n",
    "    \n",
    "    try:\n",
    "        print(f'Getting data for '+str(recipe_request['to']))\n",
    "    except json.decoder.JSONDecodeError:\n",
    "        print(\"There was a problem accessing the equipment data.\")\n",
    "        \n",
    "    if recipe_request['to']==recipe_request['count']:\n",
    "        still_some_data=False\n",
    "    if recipe_request['to']> recipe_request['count']:\n",
    "        still_some_data = False \n",
    "        \n",
    "    next_url = recipe_request['_links']['next']['href']\n",
    "\n",
    "    \n",
    "    for idx, recipe in enumerate(recipe_request['hits']):\n",
    "      count+=1\n",
    "      if (recipe[\"recipe\"][\"mealType\"][0]== 'lunch/dinner'):\n",
    "        # print(recipe[\"recipe\"][\"label\"])\n",
    "            str(diet), \\\n",
    "            df_list.append([recipe[\"recipe\"][\"label\"], \\\n",
    "            str(round(recipe['recipe'][\"totalNutrients\"]['PROCNT']['quantity'], 2))+\" g\", \\\n",
    "            str(round(recipe['recipe'][\"totalNutrients\"]['CHOCDF']['quantity'], 2))+\" g\",\\\n",
    "            str(round(recipe['recipe'][\"totalNutrients\"]['FAT']['quantity'], 2))+\" g\"])"
   ]
  },
  {
   "cell_type": "code",
   "execution_count": 68,
   "id": "e162c436",
   "metadata": {},
   "outputs": [
    {
     "name": "stdout",
     "output_type": "stream",
     "text": [
      "[['Mediterranean Cucumber Tonic', 'mediterranean', '0.25 g', '12.01 g', '0.33 g'], ['Loup de Mer (Mediterranean Seabass)', 'mediterranean', '306.14 g', '43.1 g', '26.55 g'], ['Mediterranean Baked Trout with Olives, Fennel & Tomatoes recipes', 'mediterranean', '187.14 g', '42.31 g', '87.94 g'], ['Mediterranean Salmon Risotto recipes', 'mediterranean', '395.5 g', '287.1 g', '291.04 g'], ['Mediterranean Pita Melts', 'mediterranean', '46.57 g', '139.71 g', '37.7 g'], ['Mediterranean Salmon Stuffed Shells', 'mediterranean', '333.01 g', '414.66 g', '230.05 g'], ['Easy Stuffed Peppers', 'mediterranean', '76.64 g', '429.13 g', '58.98 g'], ['Mediterranean Spiced Cucumber Medallions', 'mediterranean', '29.67 g', '23.24 g', '28.44 g'], ['Marinated Mediterranean Olives', 'mediterranean', '4.76 g', '34.08 g', '50.12 g'], ['Loup De Mer (Mediterranean Seabass)', 'mediterranean', '306.68 g', '45.78 g', '26.54 g'], ['Mediterranean Chicken', 'mediterranean', '281.25 g', '78.76 g', '167.28 g'], ['Grilled Tofu with a Mediterranean Chopped Salad', 'mediterranean', '33.62 g', '16.2 g', '30.37 g'], ['Mediterranean Rub', 'mediterranean', '1.09 g', '4.56 g', '0.18 g'], ['Mediterranean Chicken Lettuce Wrap Tacos recipes', 'mediterranean', '96.62 g', '37.84 g', '74.64 g'], ['Mediterranean Lasagna', 'mediterranean', '218.34 g', '271.22 g', '268.81 g'], ['Mediterranean Olive Hummus', 'mediterranean', '25.97 g', '78.69 g', '57.46 g'], ['Mediterranean Chicken', 'mediterranean', '99.66 g', '116.78 g', '118.14 g'], ['Flatbread Pizza With Prosciutto & Gorgonzola', 'mediterranean', '216.49 g', '528.48 g', '215.02 g'], ['Mediterranean Mix', 'mediterranean', '8.11 g', '9.59 g', '14.64 g'], ['Mediterranean Wrap', 'mediterranean', '135.85 g', '31.94 g', '40.02 g'], ['Mediterranean Marinade', 'mediterranean', '1.5 g', '12.79 g', '68.75 g'], ['Mediterranean Wrap', 'mediterranean', '14.19 g', '36.47 g', '40.3 g'], ['Mediterranean Spatchcock Chicken', 'mediterranean', '159.58 g', '10.45 g', '168.86 g'], ['Crab, Scallion And Tomato Quiche', 'mediterranean', '108.21 g', '136.89 g', '138.56 g'], ['Mediterranean Chicken', 'mediterranean', '156.48 g', '26.53 g', '88.33 g'], ['Mediterranean Appetizer Board', 'mediterranean', '88.77 g', '305.3 g', '112.14 g'], ['Mediterranean Chicken', 'mediterranean', '327.56 g', '57.06 g', '146.5 g'], ['Homemade Labneh', 'mediterranean', '25.18 g', '12.46 g', '59.23 g'], ['Mediterranean Slices', 'mediterranean', '64.35 g', '201.3 g', '192.7 g'], ['Tapenade', 'mediterranean', '8.08 g', '22.69 g', '56.26 g'], ['Mediterranean Marinade', 'mediterranean', '1.5 g', '12.79 g', '68.75 g'], ['Mediterranean Tuna', 'mediterranean', '69.04 g', '28.09 g', '42.29 g'], ['Mediterranean Couscous', 'mediterranean', '47.95 g', '284.92 g', '8.88 g'], ['Mediterranean Pasta', 'mediterranean', '77.45 g', '363.81 g', '112.54 g'], ['Mediterranean Pizza', 'mediterranean', '62.07 g', '192.5 g', '41.81 g'], ['Mediterranean Pizza', 'mediterranean', '64.24 g', '213.66 g', '49.41 g'], ['Mediterranean Herb Rub', 'mediterranean', '1.69 g', '5.68 g', '14.25 g'], ['Herby Mediterranean Fish with Wilted Greens & Mushrooms', 'mediterranean', '68.27 g', '41.25 g', '50.83 g'], ['Mediterranean Guacamole', 'mediterranean', '10.34 g', '47.1 g', '66.56 g'], ['Mediterranean Crostini', 'mediterranean', '44.88 g', '166.3 g', '100.32 g']]\n",
      "40\n"
     ]
    }
   ],
   "source": [
    "print(df_list)\n",
    "print(len(df_list))"
   ]
  },
  {
   "cell_type": "code",
   "execution_count": 30,
   "id": "a57c9625",
   "metadata": {},
   "outputs": [
    {
     "name": "stdout",
     "output_type": "stream",
     "text": [
      "                                Recipe_name   Protein     Carbs       Fat\n",
      "0                            Keto Fat Bombs   49.19 g   79.78 g   264.4 g\n",
      "1                     Keto Egg Bites Recipe   92.86 g   16.19 g   86.51 g\n",
      "2                      Keto Key Lime Mousse   27.49 g   23.58 g  177.43 g\n",
      "3                Keto Peanut Butter Squares   130.0 g  507.48 g  362.36 g\n",
      "4     YOGURT RICE, REINVENTED THE KETO WAY!   21.23 g   34.78 g   27.74 g\n",
      "...                                     ...       ...       ...       ...\n",
      "1507                    Macadamia Fat Bread   53.77 g   79.92 g  266.07 g\n",
      "1508   Beef, cream cheese & shredded cheese  169.13 g    7.26 g  239.23 g\n",
      "1509   No Carb (No Cauliflower) Pizza Crust   225.2 g   10.55 g   94.58 g\n",
      "1510            Indian Coconut Curry Salmon   62.59 g   39.71 g   65.81 g\n",
      "1511                                 Eggnog   11.78 g   30.36 g  140.04 g\n",
      "\n",
      "[1512 rows x 4 columns]\n",
      "1456\n"
     ]
    }
   ],
   "source": [
    "df = pd.DataFrame(df_list, columns = ['Recipe_name', 'Protein', 'Carbs', 'Fat'])\n",
    "\n",
    "print(df)\n",
    "print(len(df['Recipe_name'].unique()))"
   ]
  },
  {
   "cell_type": "code",
   "execution_count": 31,
   "id": "cca3ba6f",
   "metadata": {},
   "outputs": [],
   "source": [
    "#Save into CSV\n",
    "df.to_csv('Mediterranean.csv', index = False)"
   ]
  },
  {
   "cell_type": "code",
   "execution_count": 32,
   "id": "3c7fc386",
   "metadata": {},
   "outputs": [
    {
     "data": {
      "text/html": [
       "<div>\n",
       "<style scoped>\n",
       "    .dataframe tbody tr th:only-of-type {\n",
       "        vertical-align: middle;\n",
       "    }\n",
       "\n",
       "    .dataframe tbody tr th {\n",
       "        vertical-align: top;\n",
       "    }\n",
       "\n",
       "    .dataframe thead th {\n",
       "        text-align: right;\n",
       "    }\n",
       "</style>\n",
       "<table border=\"1\" class=\"dataframe\">\n",
       "  <thead>\n",
       "    <tr style=\"text-align: right;\">\n",
       "      <th></th>\n",
       "      <th>Recipe_name</th>\n",
       "      <th>Protein</th>\n",
       "      <th>Carbs</th>\n",
       "      <th>Fat</th>\n",
       "    </tr>\n",
       "  </thead>\n",
       "  <tbody>\n",
       "    <tr>\n",
       "      <th>0</th>\n",
       "      <td>Keto Fat Bombs</td>\n",
       "      <td>49.19 g</td>\n",
       "      <td>79.78 g</td>\n",
       "      <td>264.4 g</td>\n",
       "    </tr>\n",
       "    <tr>\n",
       "      <th>1</th>\n",
       "      <td>Keto Egg Bites Recipe</td>\n",
       "      <td>92.86 g</td>\n",
       "      <td>16.19 g</td>\n",
       "      <td>86.51 g</td>\n",
       "    </tr>\n",
       "    <tr>\n",
       "      <th>2</th>\n",
       "      <td>Keto Key Lime Mousse</td>\n",
       "      <td>27.49 g</td>\n",
       "      <td>23.58 g</td>\n",
       "      <td>177.43 g</td>\n",
       "    </tr>\n",
       "    <tr>\n",
       "      <th>3</th>\n",
       "      <td>Keto Peanut Butter Squares</td>\n",
       "      <td>130.0 g</td>\n",
       "      <td>507.48 g</td>\n",
       "      <td>362.36 g</td>\n",
       "    </tr>\n",
       "    <tr>\n",
       "      <th>4</th>\n",
       "      <td>YOGURT RICE, REINVENTED THE KETO WAY!</td>\n",
       "      <td>21.23 g</td>\n",
       "      <td>34.78 g</td>\n",
       "      <td>27.74 g</td>\n",
       "    </tr>\n",
       "    <tr>\n",
       "      <th>...</th>\n",
       "      <td>...</td>\n",
       "      <td>...</td>\n",
       "      <td>...</td>\n",
       "      <td>...</td>\n",
       "    </tr>\n",
       "    <tr>\n",
       "      <th>1507</th>\n",
       "      <td>Macadamia Fat Bread</td>\n",
       "      <td>53.77 g</td>\n",
       "      <td>79.92 g</td>\n",
       "      <td>266.07 g</td>\n",
       "    </tr>\n",
       "    <tr>\n",
       "      <th>1508</th>\n",
       "      <td>Beef, cream cheese &amp; shredded cheese</td>\n",
       "      <td>169.13 g</td>\n",
       "      <td>7.26 g</td>\n",
       "      <td>239.23 g</td>\n",
       "    </tr>\n",
       "    <tr>\n",
       "      <th>1509</th>\n",
       "      <td>No Carb (No Cauliflower) Pizza Crust</td>\n",
       "      <td>225.2 g</td>\n",
       "      <td>10.55 g</td>\n",
       "      <td>94.58 g</td>\n",
       "    </tr>\n",
       "    <tr>\n",
       "      <th>1510</th>\n",
       "      <td>Indian Coconut Curry Salmon</td>\n",
       "      <td>62.59 g</td>\n",
       "      <td>39.71 g</td>\n",
       "      <td>65.81 g</td>\n",
       "    </tr>\n",
       "    <tr>\n",
       "      <th>1511</th>\n",
       "      <td>Eggnog</td>\n",
       "      <td>11.78 g</td>\n",
       "      <td>30.36 g</td>\n",
       "      <td>140.04 g</td>\n",
       "    </tr>\n",
       "  </tbody>\n",
       "</table>\n",
       "<p>1512 rows × 4 columns</p>\n",
       "</div>"
      ],
      "text/plain": [
       "                                Recipe_name   Protein     Carbs       Fat\n",
       "0                            Keto Fat Bombs   49.19 g   79.78 g   264.4 g\n",
       "1                     Keto Egg Bites Recipe   92.86 g   16.19 g   86.51 g\n",
       "2                      Keto Key Lime Mousse   27.49 g   23.58 g  177.43 g\n",
       "3                Keto Peanut Butter Squares   130.0 g  507.48 g  362.36 g\n",
       "4     YOGURT RICE, REINVENTED THE KETO WAY!   21.23 g   34.78 g   27.74 g\n",
       "...                                     ...       ...       ...       ...\n",
       "1507                    Macadamia Fat Bread   53.77 g   79.92 g  266.07 g\n",
       "1508   Beef, cream cheese & shredded cheese  169.13 g    7.26 g  239.23 g\n",
       "1509   No Carb (No Cauliflower) Pizza Crust   225.2 g   10.55 g   94.58 g\n",
       "1510            Indian Coconut Curry Salmon   62.59 g   39.71 g   65.81 g\n",
       "1511                                 Eggnog   11.78 g   30.36 g  140.04 g\n",
       "\n",
       "[1512 rows x 4 columns]"
      ]
     },
     "execution_count": 32,
     "metadata": {},
     "output_type": "execute_result"
    }
   ],
   "source": [
    "# Or read pandas\n",
    "pd.read_csv('Mediterranean.csv')"
   ]
  },
  {
   "cell_type": "code",
   "execution_count": 43,
   "id": "6fb821cb",
   "metadata": {},
   "outputs": [
    {
     "data": {
      "text/plain": [
       "'/Users/indi/Documents/Master/Blok 1/ODCM diets/recipe-nutritions/CSV'"
      ]
     },
     "execution_count": 43,
     "metadata": {},
     "output_type": "execute_result"
    }
   ],
   "source": [
    "# Directory of Keto CSV\n",
    "'/Users/indi/Documents/Master/Blok 1/ODCM diets/recipe-nutritions/CSV/Keto.csv'"
   ]
  },
  {
   "cell_type": "code",
   "execution_count": 47,
   "id": "9978eb16",
   "metadata": {},
   "outputs": [
    {
     "name": "stdout",
     "output_type": "stream",
     "text": [
      "                                   Recipe_name  Protein     Carbs       Fat\n",
      "0                               Keto Fat Bombs  49.19 g   79.78 g   264.4 g\n",
      "1                        Keto Egg Bites Recipe  92.86 g   16.19 g   86.51 g\n",
      "2                         Keto Key Lime Mousse  27.49 g   23.58 g  177.43 g\n",
      "3                   Keto Peanut Butter Squares  130.0 g  507.48 g  362.36 g\n",
      "4        YOGURT RICE, REINVENTED THE KETO WAY!  21.23 g   34.78 g   27.74 g\n",
      "...                                        ...      ...       ...       ...\n",
      "4774  Vegan Parmesan-Crusted Cauliflower Wings  56.28 g   65.62 g   90.77 g\n",
      "4775                          Vegan Spice Cake   34.4 g  551.66 g  193.42 g\n",
      "4776                      Fudgy Vegan Brownies  28.65 g  364.77 g  168.68 g\n",
      "4777           Vegan Spinach Pinwheels recipes  44.84 g   59.62 g   60.33 g\n",
      "4778                Vegan Noodle Kugel recipes  60.29 g  469.33 g  108.76 g\n",
      "\n",
      "[4779 rows x 4 columns]\n"
     ]
    }
   ],
   "source": [
    "# merging the files\n",
    "df_all_diets = pd.concat(\n",
    "    map(pd.read_csv, ['/Users/indi/Documents/Master/Blok 1/ODCM diets/recipe-nutritions/CSV/Keto.csv', '/Users/indi/Documents/Master/Blok 1/ODCM diets/recipe-nutritions/CSV/Dash.csv', '/Users/indi/Documents/Master/Blok 1/ODCM diets/recipe-nutritions/CSV/Vegan.csv']), ignore_index=True)\n",
    "print(df_all_diets)\n"
   ]
  },
  {
   "cell_type": "code",
   "execution_count": 57,
   "id": "253171d3",
   "metadata": {},
   "outputs": [],
   "source": [
    "#Save into CSV\n",
    "df_all_diets.to_csv('All_Diets.csv', index = False)"
   ]
  },
  {
   "cell_type": "code",
   "execution_count": 58,
   "id": "7a65a90d",
   "metadata": {},
   "outputs": [
    {
     "data": {
      "text/html": [
       "<div>\n",
       "<style scoped>\n",
       "    .dataframe tbody tr th:only-of-type {\n",
       "        vertical-align: middle;\n",
       "    }\n",
       "\n",
       "    .dataframe tbody tr th {\n",
       "        vertical-align: top;\n",
       "    }\n",
       "\n",
       "    .dataframe thead th {\n",
       "        text-align: right;\n",
       "    }\n",
       "</style>\n",
       "<table border=\"1\" class=\"dataframe\">\n",
       "  <thead>\n",
       "    <tr style=\"text-align: right;\">\n",
       "      <th></th>\n",
       "      <th>Recipe_name</th>\n",
       "      <th>Protein</th>\n",
       "      <th>Carbs</th>\n",
       "      <th>Fat</th>\n",
       "    </tr>\n",
       "  </thead>\n",
       "  <tbody>\n",
       "    <tr>\n",
       "      <th>0</th>\n",
       "      <td>Keto Fat Bombs</td>\n",
       "      <td>49.19 g</td>\n",
       "      <td>79.78 g</td>\n",
       "      <td>264.4 g</td>\n",
       "    </tr>\n",
       "    <tr>\n",
       "      <th>1</th>\n",
       "      <td>Keto Egg Bites Recipe</td>\n",
       "      <td>92.86 g</td>\n",
       "      <td>16.19 g</td>\n",
       "      <td>86.51 g</td>\n",
       "    </tr>\n",
       "    <tr>\n",
       "      <th>2</th>\n",
       "      <td>Keto Key Lime Mousse</td>\n",
       "      <td>27.49 g</td>\n",
       "      <td>23.58 g</td>\n",
       "      <td>177.43 g</td>\n",
       "    </tr>\n",
       "    <tr>\n",
       "      <th>3</th>\n",
       "      <td>Keto Peanut Butter Squares</td>\n",
       "      <td>130.0 g</td>\n",
       "      <td>507.48 g</td>\n",
       "      <td>362.36 g</td>\n",
       "    </tr>\n",
       "    <tr>\n",
       "      <th>4</th>\n",
       "      <td>YOGURT RICE, REINVENTED THE KETO WAY!</td>\n",
       "      <td>21.23 g</td>\n",
       "      <td>34.78 g</td>\n",
       "      <td>27.74 g</td>\n",
       "    </tr>\n",
       "    <tr>\n",
       "      <th>...</th>\n",
       "      <td>...</td>\n",
       "      <td>...</td>\n",
       "      <td>...</td>\n",
       "      <td>...</td>\n",
       "    </tr>\n",
       "    <tr>\n",
       "      <th>4774</th>\n",
       "      <td>Vegan Parmesan-Crusted Cauliflower Wings</td>\n",
       "      <td>56.28 g</td>\n",
       "      <td>65.62 g</td>\n",
       "      <td>90.77 g</td>\n",
       "    </tr>\n",
       "    <tr>\n",
       "      <th>4775</th>\n",
       "      <td>Vegan Spice Cake</td>\n",
       "      <td>34.4 g</td>\n",
       "      <td>551.66 g</td>\n",
       "      <td>193.42 g</td>\n",
       "    </tr>\n",
       "    <tr>\n",
       "      <th>4776</th>\n",
       "      <td>Fudgy Vegan Brownies</td>\n",
       "      <td>28.65 g</td>\n",
       "      <td>364.77 g</td>\n",
       "      <td>168.68 g</td>\n",
       "    </tr>\n",
       "    <tr>\n",
       "      <th>4777</th>\n",
       "      <td>Vegan Spinach Pinwheels recipes</td>\n",
       "      <td>44.84 g</td>\n",
       "      <td>59.62 g</td>\n",
       "      <td>60.33 g</td>\n",
       "    </tr>\n",
       "    <tr>\n",
       "      <th>4778</th>\n",
       "      <td>Vegan Noodle Kugel recipes</td>\n",
       "      <td>60.29 g</td>\n",
       "      <td>469.33 g</td>\n",
       "      <td>108.76 g</td>\n",
       "    </tr>\n",
       "  </tbody>\n",
       "</table>\n",
       "<p>4779 rows × 4 columns</p>\n",
       "</div>"
      ],
      "text/plain": [
       "                                   Recipe_name  Protein     Carbs       Fat\n",
       "0                               Keto Fat Bombs  49.19 g   79.78 g   264.4 g\n",
       "1                        Keto Egg Bites Recipe  92.86 g   16.19 g   86.51 g\n",
       "2                         Keto Key Lime Mousse  27.49 g   23.58 g  177.43 g\n",
       "3                   Keto Peanut Butter Squares  130.0 g  507.48 g  362.36 g\n",
       "4        YOGURT RICE, REINVENTED THE KETO WAY!  21.23 g   34.78 g   27.74 g\n",
       "...                                        ...      ...       ...       ...\n",
       "4774  Vegan Parmesan-Crusted Cauliflower Wings  56.28 g   65.62 g   90.77 g\n",
       "4775                          Vegan Spice Cake   34.4 g  551.66 g  193.42 g\n",
       "4776                      Fudgy Vegan Brownies  28.65 g  364.77 g  168.68 g\n",
       "4777           Vegan Spinach Pinwheels recipes  44.84 g   59.62 g   60.33 g\n",
       "4778                Vegan Noodle Kugel recipes  60.29 g  469.33 g  108.76 g\n",
       "\n",
       "[4779 rows x 4 columns]"
      ]
     },
     "execution_count": 58,
     "metadata": {},
     "output_type": "execute_result"
    }
   ],
   "source": [
    "# Or read pandas\n",
    "pd.read_csv('All_Diets.csv')"
   ]
  }
 ],
 "metadata": {
  "kernelspec": {
   "display_name": "Python 3 (ipykernel)",
   "language": "python",
   "name": "python3"
  },
  "language_info": {
   "codemirror_mode": {
    "name": "ipython",
    "version": 3
   },
   "file_extension": ".py",
   "mimetype": "text/x-python",
   "name": "python",
   "nbconvert_exporter": "python",
   "pygments_lexer": "ipython3",
   "version": "3.9.12"
  }
 },
 "nbformat": 4,
 "nbformat_minor": 5
}
